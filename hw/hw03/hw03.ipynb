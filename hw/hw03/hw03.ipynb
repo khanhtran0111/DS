{
 "cells": [
  {
   "cell_type": "code",
   "execution_count": 1,
   "metadata": {
    "deletable": false,
    "editable": false
   },
   "outputs": [
    {
     "name": "stderr",
     "output_type": "stream",
     "text": [
      "c:\\Users\\giakh\\miniconda3\\envs\\datascience\\lib\\site-packages\\nbformat\\__init__.py:96: MissingIDFieldWarning: Cell is missing an id field, this will become a hard error in future nbformat versions. You may want to use `normalize()` on your notebooks before validations (available since nbformat 5.1.4). Previous versions of nbformat are fixing this issue transparently, and will stop doing so in the future.\n",
      "  validate(nb)\n"
     ]
    }
   ],
   "source": [
    "# Initialize Otter\n",
    "import otter\n",
    "grader = otter.Notebook(\"hw03.ipynb\")"
   ]
  },
  {
   "cell_type": "markdown",
   "metadata": {},
   "source": [
    "# Homework 3: Table Manipulation and Visualization\n",
    "\n",
    "Please complete this notebook by filling in the cells provided. Before you begin, execute the previous cell to load the provided tests."
   ]
  },
  {
   "attachments": {},
   "cell_type": "markdown",
   "metadata": {},
   "source": [
    "**Helpful Resource:**\n",
    "- [Python Reference](http://data8.org/fa24/reference/): Cheat sheet of helpful array & table methods used in Data 8!\n",
    "\n",
    "**Recommended Reading**: \n",
    "* [Visualization](https://inferentialthinking.com/chapters/07/Visualization.html)"
   ]
  },
  {
   "attachments": {},
   "cell_type": "markdown",
   "metadata": {},
   "source": [
    "For all problems that you must write explanations and sentences for, you **must** provide your answer in the designated space. Moreover, throughout this homework and all future ones, **please be sure to not re-assign variables throughout the notebook!** For example, if you use `max_temperature` in your answer to one question, do not reassign it later on. Otherwise, you will fail tests that you thought you were passing previously!\n",
    "\n",
    "**Deadline:**\n",
    "\n",
    "This assignment is **due Wednesday, 9/18 at 5:00pm PT**. Submissions after this time will be accepted for 24 hours and will incur a 20% penalty. Any submissions later than this 24 hour period will not be accepted unless an extension has been granted as per the [policies](http://data8.org/fa24/policies/) page. Turn it in by Tuesday, 9/17 at 5:00pm PT for 5 extra credit points.\n",
    "\n",
    "<span style=\"color:red\">**Note: This homework has hidden tests on it. That means even though tests may say 100% passed, it doesn't mean your final grade will be 100%. We will be running more tests for correctness once everyone turns in the homework.**</span>\n",
    "\n",
    "Directly sharing answers is not okay, but discussing problems with the course staff or with other students is encouraged. Refer to the [policies](http://data8.org/fa24/policies/#learning-cooperatively) page to learn more about how to learn cooperatively.\n",
    "\n",
    "You should start early so that you have time to get help if you're stuck. Office hours are held Monday through Friday in [Warren Hall](https://www.berkeley.edu/map?warren). The office hours schedule appears on our [office hours page](https://www.data8.org/fa24/schedule/)."
   ]
  },
  {
   "cell_type": "code",
   "execution_count": 2,
   "metadata": {},
   "outputs": [],
   "source": [
    "# Don't change this cell; just run it. \n",
    "\n",
    "import numpy as np\n",
    "from datascience import *\n",
    "import warnings\n",
    "warnings.simplefilter('ignore', FutureWarning)\n",
    "\n",
    "# These lines do some fancy plotting magic.\\n\",\n",
    "import matplotlib\n",
    "%matplotlib inline\n",
    "import matplotlib.pyplot as plt\n",
    "plt.style.use('fivethirtyeight')"
   ]
  },
  {
   "cell_type": "markdown",
   "metadata": {},
   "source": [
    "<hr style=\"border: 5px solid #003262;\" />\n",
    "<hr style=\"border: 1px solid #fdb515;\" />\n",
    "\n",
    "## 1. Unemployment"
   ]
  },
  {
   "cell_type": "markdown",
   "metadata": {},
   "source": [
    "The Great Recession of 2008-2009 was a period of economic decline observed globally, with scale and timing varying from country to country. In the United States, it resulted in a rapid rise in unemployment that affected industries and population groups to different extents.\n",
    "\n",
    "The Federal Reserve Bank of St. Louis publishes data about jobs in the US.  Below, we've loaded data on unemployment in the United States. There are many ways of defining unemployment, and our dataset includes two notions of the unemployment rate:\n",
    "\n",
    "1. *Non-Employment Index (or NEI)*: Among people who are able to work and are looking for a full-time job, the percentage who can't find a job.\n",
    "2. *NEI-PTER*: Among people who are able to work and are looking for a full-time job, the percentage who can't find any job *or* are only working at a part-time job.  The latter group is called \"Part-Time for Economic Reasons\", so the acronym for this index is NEI-PTER.  (Economists are great at marketing.)\n",
    "\n",
    "The source of the data is [here](https://fred.stlouisfed.org/categories/33509)."
   ]
  },
  {
   "cell_type": "markdown",
   "metadata": {},
   "source": [
    "---\n",
    "\n",
    "**Question 1.** The data are in a CSV file called `unemployment.csv`.  Load that file into a table called `unemployment`. **(4 Points)**\n",
    "\n",
    "_Hint:_ After loading in the CSV file, the `unemployment` table should look like this:\n",
    "\n",
    "<img src=\"unemployment.png\" width=\"20%\"/>\n"
   ]
  },
  {
   "cell_type": "code",
   "execution_count": 3,
   "metadata": {
    "tags": []
   },
   "outputs": [
    {
     "data": {
      "text/html": [
       "<table border=\"1\" class=\"dataframe\">\n",
       "    <thead>\n",
       "        <tr>\n",
       "            <th>Date</th> <th>NEI</th> <th>NEI-PTER</th>\n",
       "        </tr>\n",
       "    </thead>\n",
       "    <tbody>\n",
       "        <tr>\n",
       "            <td>1994-01-01</td> <td>10.0974</td> <td>11.172  </td>\n",
       "        </tr>\n",
       "        <tr>\n",
       "            <td>1994-04-01</td> <td>9.6239 </td> <td>10.7883 </td>\n",
       "        </tr>\n",
       "        <tr>\n",
       "            <td>1994-07-01</td> <td>9.3276 </td> <td>10.4831 </td>\n",
       "        </tr>\n",
       "        <tr>\n",
       "            <td>1994-10-01</td> <td>9.1071 </td> <td>10.2361 </td>\n",
       "        </tr>\n",
       "        <tr>\n",
       "            <td>1995-01-01</td> <td>8.9693 </td> <td>10.1832 </td>\n",
       "        </tr>\n",
       "        <tr>\n",
       "            <td>1995-04-01</td> <td>9.0314 </td> <td>10.1071 </td>\n",
       "        </tr>\n",
       "        <tr>\n",
       "            <td>1995-07-01</td> <td>8.9802 </td> <td>10.1084 </td>\n",
       "        </tr>\n",
       "        <tr>\n",
       "            <td>1995-10-01</td> <td>8.9932 </td> <td>10.1046 </td>\n",
       "        </tr>\n",
       "        <tr>\n",
       "            <td>1996-01-01</td> <td>9.0002 </td> <td>10.0531 </td>\n",
       "        </tr>\n",
       "        <tr>\n",
       "            <td>1996-04-01</td> <td>8.9038 </td> <td>9.9782  </td>\n",
       "        </tr>\n",
       "    </tbody>\n",
       "</table>\n",
       "<p>... (80 rows omitted)</p>"
      ],
      "text/plain": [
       "Date       | NEI     | NEI-PTER\n",
       "1994-01-01 | 10.0974 | 11.172\n",
       "1994-04-01 | 9.6239  | 10.7883\n",
       "1994-07-01 | 9.3276  | 10.4831\n",
       "1994-10-01 | 9.1071  | 10.2361\n",
       "1995-01-01 | 8.9693  | 10.1832\n",
       "1995-04-01 | 9.0314  | 10.1071\n",
       "1995-07-01 | 8.9802  | 10.1084\n",
       "1995-10-01 | 8.9932  | 10.1046\n",
       "1996-01-01 | 9.0002  | 10.0531\n",
       "1996-04-01 | 8.9038  | 9.9782\n",
       "... (80 rows omitted)"
      ]
     },
     "execution_count": 3,
     "metadata": {},
     "output_type": "execute_result"
    }
   ],
   "source": [
    "unemployment = Table.read_table('unemployment.csv')\n",
    "unemployment"
   ]
  },
  {
   "cell_type": "code",
   "execution_count": 4,
   "metadata": {
    "deletable": false,
    "editable": false
   },
   "outputs": [
    {
     "data": {
      "text/html": [
       "<p><strong><pre style='display: inline;'>q1_1</pre></strong> passed! 🚀</p>"
      ],
      "text/plain": [
       "q1_1 results: All test cases passed!"
      ]
     },
     "execution_count": 4,
     "metadata": {},
     "output_type": "execute_result"
    }
   ],
   "source": [
    "grader.check(\"q1_1\")"
   ]
  },
  {
   "cell_type": "markdown",
   "metadata": {},
   "source": [
    "---\n",
    "\n",
    "**Question 2.** Sort the data in descending order by NEI, naming the sorted table `by_nei`.  Create another table called `by_nei_pter` that's sorted in descending order by NEI-PTER instead. **(4 Points)**\n"
   ]
  },
  {
   "cell_type": "code",
   "execution_count": 5,
   "metadata": {
    "tags": []
   },
   "outputs": [],
   "source": [
    "by_nei = unemployment.sort('NEI', descending=True)\n",
    "by_nei_pter = unemployment.sort('NEI-PTER', descending=True)"
   ]
  },
  {
   "cell_type": "code",
   "execution_count": 6,
   "metadata": {
    "deletable": false,
    "editable": false
   },
   "outputs": [
    {
     "data": {
      "text/html": [
       "<p><strong><pre style='display: inline;'>q1_2</pre></strong> passed! 🚀</p>"
      ],
      "text/plain": [
       "q1_2 results: All test cases passed!"
      ]
     },
     "execution_count": 6,
     "metadata": {},
     "output_type": "execute_result"
    }
   ],
   "source": [
    "grader.check(\"q1_2\")"
   ]
  },
  {
   "cell_type": "code",
   "execution_count": 7,
   "metadata": {},
   "outputs": [
    {
     "data": {
      "text/html": [
       "<table border=\"1\" class=\"dataframe\">\n",
       "    <thead>\n",
       "        <tr>\n",
       "            <th>Date</th> <th>NEI</th> <th>NEI-PTER</th>\n",
       "        </tr>\n",
       "    </thead>\n",
       "    <tbody>\n",
       "        <tr>\n",
       "            <td>2009-10-01</td> <td>10.9698</td> <td>12.8557 </td>\n",
       "        </tr>\n",
       "        <tr>\n",
       "            <td>2010-01-01</td> <td>10.9054</td> <td>12.7311 </td>\n",
       "        </tr>\n",
       "        <tr>\n",
       "            <td>2009-07-01</td> <td>10.8089</td> <td>12.7404 </td>\n",
       "        </tr>\n",
       "        <tr>\n",
       "            <td>2009-04-01</td> <td>10.7082</td> <td>12.5497 </td>\n",
       "        </tr>\n",
       "        <tr>\n",
       "            <td>2010-04-01</td> <td>10.6597</td> <td>12.5664 </td>\n",
       "        </tr>\n",
       "    </tbody>\n",
       "</table>\n",
       "<p>... (85 rows omitted)</p>"
      ],
      "text/plain": [
       "<IPython.core.display.HTML object>"
      ]
     },
     "metadata": {},
     "output_type": "display_data"
    }
   ],
   "source": [
    "# Run this cell to check your by_nei table. You do not need to change the code.\n",
    "by_nei.show(5)"
   ]
  },
  {
   "cell_type": "code",
   "execution_count": 8,
   "metadata": {},
   "outputs": [
    {
     "data": {
      "text/html": [
       "<table border=\"1\" class=\"dataframe\">\n",
       "    <thead>\n",
       "        <tr>\n",
       "            <th>Date</th> <th>NEI</th> <th>NEI-PTER</th>\n",
       "        </tr>\n",
       "    </thead>\n",
       "    <tbody>\n",
       "        <tr>\n",
       "            <td>2009-10-01</td> <td>10.9698</td> <td>12.8557 </td>\n",
       "        </tr>\n",
       "        <tr>\n",
       "            <td>2009-07-01</td> <td>10.8089</td> <td>12.7404 </td>\n",
       "        </tr>\n",
       "        <tr>\n",
       "            <td>2010-01-01</td> <td>10.9054</td> <td>12.7311 </td>\n",
       "        </tr>\n",
       "        <tr>\n",
       "            <td>2010-04-01</td> <td>10.6597</td> <td>12.5664 </td>\n",
       "        </tr>\n",
       "        <tr>\n",
       "            <td>2009-04-01</td> <td>10.7082</td> <td>12.5497 </td>\n",
       "        </tr>\n",
       "    </tbody>\n",
       "</table>\n",
       "<p>... (85 rows omitted)</p>"
      ],
      "text/plain": [
       "<IPython.core.display.HTML object>"
      ]
     },
     "metadata": {},
     "output_type": "display_data"
    }
   ],
   "source": [
    "# Run this cell to check your by_nei_pter table. You do not need to change the code.\n",
    "by_nei_pter.show(5)"
   ]
  },
  {
   "cell_type": "markdown",
   "metadata": {},
   "source": [
    "---\n",
    "\n",
    "**Question 3.** Using `take`, assign `greatest_nei` to a table containing the data for the 11 quarters when NEI was greatest.\n",
    "\n",
    "`greatest_nei` should be sorted in descending order of `NEI`. Note that each row of `unemployment` represents a quarter. **(4 Points)**\n"
   ]
  },
  {
   "cell_type": "code",
   "execution_count": 9,
   "metadata": {
    "tags": []
   },
   "outputs": [
    {
     "data": {
      "text/html": [
       "<table border=\"1\" class=\"dataframe\">\n",
       "    <thead>\n",
       "        <tr>\n",
       "            <th>Date</th> <th>NEI</th> <th>NEI-PTER</th>\n",
       "        </tr>\n",
       "    </thead>\n",
       "    <tbody>\n",
       "        <tr>\n",
       "            <td>2009-10-01</td> <td>10.9698</td> <td>12.8557 </td>\n",
       "        </tr>\n",
       "        <tr>\n",
       "            <td>2010-01-01</td> <td>10.9054</td> <td>12.7311 </td>\n",
       "        </tr>\n",
       "        <tr>\n",
       "            <td>2009-07-01</td> <td>10.8089</td> <td>12.7404 </td>\n",
       "        </tr>\n",
       "        <tr>\n",
       "            <td>2009-04-01</td> <td>10.7082</td> <td>12.5497 </td>\n",
       "        </tr>\n",
       "        <tr>\n",
       "            <td>2010-04-01</td> <td>10.6597</td> <td>12.5664 </td>\n",
       "        </tr>\n",
       "        <tr>\n",
       "            <td>2010-10-01</td> <td>10.5856</td> <td>12.4329 </td>\n",
       "        </tr>\n",
       "        <tr>\n",
       "            <td>2010-07-01</td> <td>10.5521</td> <td>12.3897 </td>\n",
       "        </tr>\n",
       "        <tr>\n",
       "            <td>2011-01-01</td> <td>10.5024</td> <td>12.3017 </td>\n",
       "        </tr>\n",
       "        <tr>\n",
       "            <td>2011-07-01</td> <td>10.4856</td> <td>12.2507 </td>\n",
       "        </tr>\n",
       "        <tr>\n",
       "            <td>2011-04-01</td> <td>10.4409</td> <td>12.247  </td>\n",
       "        </tr>\n",
       "    </tbody>\n",
       "</table>\n",
       "<p>... (1 rows omitted)</p>"
      ],
      "text/plain": [
       "Date       | NEI     | NEI-PTER\n",
       "2009-10-01 | 10.9698 | 12.8557\n",
       "2010-01-01 | 10.9054 | 12.7311\n",
       "2009-07-01 | 10.8089 | 12.7404\n",
       "2009-04-01 | 10.7082 | 12.5497\n",
       "2010-04-01 | 10.6597 | 12.5664\n",
       "2010-10-01 | 10.5856 | 12.4329\n",
       "2010-07-01 | 10.5521 | 12.3897\n",
       "2011-01-01 | 10.5024 | 12.3017\n",
       "2011-07-01 | 10.4856 | 12.2507\n",
       "2011-04-01 | 10.4409 | 12.247\n",
       "... (1 rows omitted)"
      ]
     },
     "execution_count": 9,
     "metadata": {},
     "output_type": "execute_result"
    }
   ],
   "source": [
    "greatest_nei = unemployment.sort('NEI', descending=True).take(np.arange(11))\n",
    "greatest_nei"
   ]
  },
  {
   "cell_type": "code",
   "execution_count": 10,
   "metadata": {
    "deletable": false,
    "editable": false
   },
   "outputs": [
    {
     "data": {
      "text/html": [
       "<p><strong><pre style='display: inline;'>q1_3</pre></strong> passed! 🍀</p>"
      ],
      "text/plain": [
       "q1_3 results: All test cases passed!"
      ]
     },
     "execution_count": 10,
     "metadata": {},
     "output_type": "execute_result"
    }
   ],
   "source": [
    "grader.check(\"q1_3\")"
   ]
  },
  {
   "cell_type": "markdown",
   "metadata": {},
   "source": [
    "---\n",
    "\n",
    "**Question 4.** It's believed that many people became PTER (recall: \"Part-Time for Economic Reasons\") in the \"Great Recession\" of 2008-2009.  NEI-PTER is the percentage of people who are unemployed (included in the NEI) plus the percentage of people who are PTER.\n",
    "\n",
    "Compute an array containing the percentage of people who were PTER in each quarter.  (The first element of the array should correspond to the first row of `unemployment`, and so on.) **(4 Points)**\n",
    "\n",
    "*Note:* Use the original `unemployment` table for this.\n"
   ]
  },
  {
   "cell_type": "code",
   "execution_count": 11,
   "metadata": {
    "tags": []
   },
   "outputs": [
    {
     "data": {
      "text/plain": [
       "array([ 1.0746,  1.1644,  1.1555,  1.129 ,  1.2139,  1.0757,  1.1282,\n",
       "        1.1114,  1.0529,  1.0744,  1.1004,  1.0747,  1.0705,  1.0455,\n",
       "        1.008 ,  0.9734,  0.9753,  0.8931,  0.9451,  0.8367,  0.8208,\n",
       "        0.8105,  0.8248,  0.7578,  0.7251,  0.7445,  0.7543,  0.7423,\n",
       "        0.7399,  0.7687,  0.8418,  0.9923,  0.9181,  0.9629,  0.9703,\n",
       "        0.9575,  1.0333,  1.0781,  1.0675,  1.0354,  1.0601,  1.01  ,\n",
       "        1.0042,  1.0368,  0.9704,  0.923 ,  0.9759,  0.93  ,  0.889 ,\n",
       "        0.821 ,  0.9409,  0.955 ,  0.898 ,  0.8948,  0.9523,  0.9579,\n",
       "        1.0149,  1.0762,  1.2873,  1.4335,  1.7446,  1.8415,  1.9315,\n",
       "        1.8859,  1.8257,  1.9067,  1.8376,  1.8473,  1.7993,  1.8061,\n",
       "        1.7651,  1.7927,  1.7286,  1.6387,  1.6808,  1.6805,  1.6629,\n",
       "        1.6253,  1.6477,  1.6298,  1.4796,  1.5131,  1.4866,  1.4345,\n",
       "        1.3675,  1.3097,  1.2319,  1.1735,  1.1844,  1.1746])"
      ]
     },
     "execution_count": 11,
     "metadata": {},
     "output_type": "execute_result"
    }
   ],
   "source": [
    "pter = unemployment['NEI-PTER'] - unemployment['NEI']\n",
    "pter"
   ]
  },
  {
   "cell_type": "code",
   "execution_count": 12,
   "metadata": {
    "deletable": false,
    "editable": false
   },
   "outputs": [
    {
     "data": {
      "text/html": [
       "<p><strong><pre style='display: inline;'>q1_4</pre></strong> passed! 🍀</p>"
      ],
      "text/plain": [
       "q1_4 results: All test cases passed!"
      ]
     },
     "execution_count": 12,
     "metadata": {},
     "output_type": "execute_result"
    }
   ],
   "source": [
    "grader.check(\"q1_4\")"
   ]
  },
  {
   "cell_type": "markdown",
   "metadata": {},
   "source": [
    "---\n",
    "\n",
    "**Question 5.** Add `pter` as a column to `unemployment` (name the column `PTER`) and sort the resulting table by that column in descending order.  Call the resulting table `by_pter`.\n",
    "\n",
    "Try to do this with a single line of code, if you can. **(4 Points)**\n"
   ]
  },
  {
   "cell_type": "code",
   "execution_count": 13,
   "metadata": {
    "tags": []
   },
   "outputs": [
    {
     "data": {
      "text/html": [
       "<table border=\"1\" class=\"dataframe\">\n",
       "    <thead>\n",
       "        <tr>\n",
       "            <th>Date</th> <th>NEI</th> <th>NEI-PTER</th> <th>PTER</th>\n",
       "        </tr>\n",
       "    </thead>\n",
       "    <tbody>\n",
       "        <tr>\n",
       "            <td>2009-07-01</td> <td>10.8089</td> <td>12.7404 </td> <td>1.9315</td>\n",
       "        </tr>\n",
       "        <tr>\n",
       "            <td>2010-04-01</td> <td>10.6597</td> <td>12.5664 </td> <td>1.9067</td>\n",
       "        </tr>\n",
       "        <tr>\n",
       "            <td>2009-10-01</td> <td>10.9698</td> <td>12.8557 </td> <td>1.8859</td>\n",
       "        </tr>\n",
       "        <tr>\n",
       "            <td>2010-10-01</td> <td>10.5856</td> <td>12.4329 </td> <td>1.8473</td>\n",
       "        </tr>\n",
       "        <tr>\n",
       "            <td>2009-04-01</td> <td>10.7082</td> <td>12.5497 </td> <td>1.8415</td>\n",
       "        </tr>\n",
       "        <tr>\n",
       "            <td>2010-07-01</td> <td>10.5521</td> <td>12.3897 </td> <td>1.8376</td>\n",
       "        </tr>\n",
       "        <tr>\n",
       "            <td>2010-01-01</td> <td>10.9054</td> <td>12.7311 </td> <td>1.8257</td>\n",
       "        </tr>\n",
       "        <tr>\n",
       "            <td>2011-04-01</td> <td>10.4409</td> <td>12.247  </td> <td>1.8061</td>\n",
       "        </tr>\n",
       "        <tr>\n",
       "            <td>2011-01-01</td> <td>10.5024</td> <td>12.3017 </td> <td>1.7993</td>\n",
       "        </tr>\n",
       "        <tr>\n",
       "            <td>2011-10-01</td> <td>10.3287</td> <td>12.1214 </td> <td>1.7927</td>\n",
       "        </tr>\n",
       "    </tbody>\n",
       "</table>\n",
       "<p>... (80 rows omitted)</p>"
      ],
      "text/plain": [
       "Date       | NEI     | NEI-PTER | PTER\n",
       "2009-07-01 | 10.8089 | 12.7404  | 1.9315\n",
       "2010-04-01 | 10.6597 | 12.5664  | 1.9067\n",
       "2009-10-01 | 10.9698 | 12.8557  | 1.8859\n",
       "2010-10-01 | 10.5856 | 12.4329  | 1.8473\n",
       "2009-04-01 | 10.7082 | 12.5497  | 1.8415\n",
       "2010-07-01 | 10.5521 | 12.3897  | 1.8376\n",
       "2010-01-01 | 10.9054 | 12.7311  | 1.8257\n",
       "2011-04-01 | 10.4409 | 12.247   | 1.8061\n",
       "2011-01-01 | 10.5024 | 12.3017  | 1.7993\n",
       "2011-10-01 | 10.3287 | 12.1214  | 1.7927\n",
       "... (80 rows omitted)"
      ]
     },
     "execution_count": 13,
     "metadata": {},
     "output_type": "execute_result"
    }
   ],
   "source": [
    "by_pter = unemployment.with_column('PTER', pter).sort('PTER', descending=True)\n",
    "by_pter"
   ]
  },
  {
   "cell_type": "code",
   "execution_count": 14,
   "metadata": {
    "deletable": false,
    "editable": false
   },
   "outputs": [
    {
     "data": {
      "text/html": [
       "<p><strong><pre style='display: inline;'>q1_5</pre></strong> passed! 🍀</p>"
      ],
      "text/plain": [
       "q1_5 results: All test cases passed!"
      ]
     },
     "execution_count": 14,
     "metadata": {},
     "output_type": "execute_result"
    }
   ],
   "source": [
    "grader.check(\"q1_5\")"
   ]
  },
  {
   "cell_type": "markdown",
   "metadata": {},
   "source": [
    "---\n",
    "\n",
    "**Question 6.** Create a line plot of PTER over time. To do this, create a new table called `pter_over_time` with the same columns as the `unemployment` table with the addition of two new columns: `Year` and `PTER` using the `year` array and the `pter` array, respectively. Then, generate a line plot using one of the table methods you've learned in class.\n",
    "\n",
    "The order of the columns matter for our correctness tests, so be sure `Year` comes before `PTER`. **(4 Points)**\n",
    "\n",
    "*Note:* When constructing `pter_over_time`, do not just add the `year` column to the `by_pter` table. Please follow the directions in the question above.\n"
   ]
  },
  {
   "cell_type": "code",
   "execution_count": 15,
   "metadata": {
    "tags": []
   },
   "outputs": [
    {
     "data": {
      "image/png": "[encoded data removed]",
      "text/plain": [
       "<Figure size 600x600 with 1 Axes>"
      ]
     },
     "metadata": {},
     "output_type": "display_data"
    }
   ],
   "source": [
    "year = 1994 + np.arange(by_pter.num_rows)/4\n",
    "pter_over_time = unemployment.with_column('Year', year).with_column('PTER', pter)\n",
    "pter_over_time.plot('Year', 'PTER')\n",
    "plt.ylim(0,2); # Do not change this line"
   ]
  },
  {
   "cell_type": "code",
   "execution_count": 16,
   "metadata": {
    "deletable": false,
    "editable": false
   },
   "outputs": [
    {
     "data": {
      "text/html": [
       "<p><strong><pre style='display: inline;'>q1_6</pre></strong> passed! 🎉</p>"
      ],
      "text/plain": [
       "q1_6 results: All test cases passed!"
      ]
     },
     "execution_count": 16,
     "metadata": {},
     "output_type": "execute_result"
    }
   ],
   "source": [
    "grader.check(\"q1_6\")"
   ]
  },
  {
   "cell_type": "markdown",
   "metadata": {},
   "source": [
    "---\n",
    "\n",
    "**Question 7.** Were PTER rates high during the Great Recession (that is to say, were PTER rates particularly high in the years 2008 through 2011)? Assign `highPTER` to `True` if you think PTER rates were high in this period, or `False` if you think they weren't. **(4 Points)**\n"
   ]
  },
  {
   "cell_type": "code",
   "execution_count": 17,
   "metadata": {
    "tags": []
   },
   "outputs": [],
   "source": [
    "highPTER=True"
   ]
  },
  {
   "cell_type": "code",
   "execution_count": 18,
   "metadata": {
    "deletable": false,
    "editable": false
   },
   "outputs": [
    {
     "data": {
      "text/html": [
       "<p><strong><pre style='display: inline;'>q1_7</pre></strong> passed! ✨</p>"
      ],
      "text/plain": [
       "q1_7 results: All test cases passed!"
      ]
     },
     "execution_count": 18,
     "metadata": {},
     "output_type": "execute_result"
    }
   ],
   "source": [
    "grader.check(\"q1_7\")"
   ]
  },
  {
   "cell_type": "markdown",
   "metadata": {},
   "source": [
    "<hr style=\"border: 5px solid #003262;\" />\n",
    "<hr style=\"border: 1px solid #fdb515;\" />\n",
    "\n",
    "## 2. Birth Rates"
   ]
  },
  {
   "cell_type": "markdown",
   "metadata": {},
   "source": [
    "The following table gives Census-based population estimates for each US state on both July 1, 2015 and July 1, 2016. The last four columns describe the components of the estimated change in population during this time interval. **For all questions below, assume that the word \"states\" refers to all 52 rows including Puerto Rico and the District of Columbia.**\n",
    "\n",
    "The data was taken from [here](http://www2.census.gov/programs-surveys/popest/datasets/2010-2016/national/totals/nst-est2016-alldata.csv). (Note: If the file doesn't download for you when you click the link, you can copy and paste the link address it into your address bar!) If you want to read more about the different column descriptions, click [here](http://www2.census.gov/programs-surveys/popest/datasets/2010-2015/national/totals/nst-est2015-alldata.pdf).\n",
    "\n",
    "The raw data is a bit messy—run the cell below to clean the table and make it easier to work with."
   ]
  },
  {
   "cell_type": "code",
   "execution_count": 19,
   "metadata": {},
   "outputs": [
    {
     "data": {
      "text/html": [
       "<table border=\"1\" class=\"dataframe\">\n",
       "    <thead>\n",
       "        <tr>\n",
       "            <th>REGION</th> <th>NAME</th> <th>2015</th> <th>2016</th> <th>BIRTHS</th> <th>DEATHS</th> <th>MIGRATION</th> <th>OTHER</th>\n",
       "        </tr>\n",
       "    </thead>\n",
       "    <tbody>\n",
       "        <tr>\n",
       "            <td>3     </td> <td>Alabama   </td> <td>4,853,875 </td> <td>4,863,300 </td> <td>58,556 </td> <td>52,405 </td> <td>3,874    </td> <td>-600  </td>\n",
       "        </tr>\n",
       "        <tr>\n",
       "            <td>4     </td> <td>Alaska    </td> <td>737,709   </td> <td>741,894   </td> <td>11,255 </td> <td>4,511  </td> <td>-2,557   </td> <td>-2    </td>\n",
       "        </tr>\n",
       "        <tr>\n",
       "            <td>4     </td> <td>Arizona   </td> <td>6,817,565 </td> <td>6,931,071 </td> <td>87,204 </td> <td>56,564 </td> <td>76,405   </td> <td>6,461 </td>\n",
       "        </tr>\n",
       "        <tr>\n",
       "            <td>3     </td> <td>Arkansas  </td> <td>2,977,853 </td> <td>2,988,248 </td> <td>37,936 </td> <td>30,581 </td> <td>3,530    </td> <td>-490  </td>\n",
       "        </tr>\n",
       "        <tr>\n",
       "            <td>4     </td> <td>California</td> <td>38,993,940</td> <td>39,250,017</td> <td>502,848</td> <td>273,850</td> <td>33,530   </td> <td>-6,451</td>\n",
       "        </tr>\n",
       "    </tbody>\n",
       "</table>\n",
       "<p>... (47 rows omitted)</p>"
      ],
      "text/plain": [
       "<IPython.core.display.HTML object>"
      ]
     },
     "metadata": {},
     "output_type": "display_data"
    }
   ],
   "source": [
    "# Don't change this cell; just run it.\n",
    "pop = Table.read_table('nst-est2016-alldata.csv').where('SUMLEV', 40).select([1, 4, 12, 13, 27, 34, 62, 69])\n",
    "pop = pop.relabeled('POPESTIMATE2015', '2015').relabeled('POPESTIMATE2016', '2016')\n",
    "pop = pop.relabeled('BIRTHS2016', 'BIRTHS').relabeled('DEATHS2016', 'DEATHS')\n",
    "pop = pop.relabeled('NETMIG2016', 'MIGRATION').relabeled('RESIDUAL2016', 'OTHER')\n",
    "pop = pop.with_columns(\"REGION\", np.array([int(region) if region != \"X\" else 0 for region in pop.column(\"REGION\")]))\n",
    "pop.set_format([2, 3, 4, 5, 6, 7], NumberFormatter(decimals=0)).show(5)"
   ]
  },
  {
   "cell_type": "markdown",
   "metadata": {},
   "source": [
    "---\n",
    "\n",
    "**Question 1.** Assign `us_birth_rate` to the total US annual birth rate during this time interval. The annual birth rate for a year-long period is the total number of births in that period as a proportion of the total population size at the start of the time period. **(4 Points)**\n",
    "\n",
    "_Hint:_ Remember that each row in the `pop` table refers to a state, not the US as a whole.\n"
   ]
  },
  {
   "cell_type": "code",
   "execution_count": 20,
   "metadata": {
    "tags": []
   },
   "outputs": [
    {
     "data": {
      "text/plain": [
       "0.012358536498646102"
      ]
     },
     "execution_count": 20,
     "metadata": {},
     "output_type": "execute_result"
    }
   ],
   "source": [
    "us_birth_rate = sum(pop.column('BIRTHS')) / sum(pop.column('2015'))\n",
    "us_birth_rate"
   ]
  },
  {
   "cell_type": "code",
   "execution_count": 21,
   "metadata": {
    "deletable": false,
    "editable": false
   },
   "outputs": [
    {
     "data": {
      "text/html": [
       "<p><strong><pre style='display: inline;'>q2_1</pre></strong> passed! 🍀</p>"
      ],
      "text/plain": [
       "q2_1 results: All test cases passed!"
      ]
     },
     "execution_count": 21,
     "metadata": {},
     "output_type": "execute_result"
    }
   ],
   "source": [
    "grader.check(\"q2_1\")"
   ]
  },
  {
   "cell_type": "markdown",
   "metadata": {},
   "source": [
    "---\n",
    "\n",
    "**Question 2.** Assign `movers` to the number of states for which the **absolute value** of the **annual rate of migration** was higher than 1%. The annual rate of migration for a year-long period is the net number of migrations (in and out) as a proportion of the population size at the start of the period. The `MIGRATION` column contains estimated annual net migration counts by state. **(4 Points)**\n",
    "\n",
    "*Hint*: `migration_rates` should be a table and `movers` should be a number.\n"
   ]
  },
  {
   "cell_type": "code",
   "execution_count": 22,
   "metadata": {
    "tags": []
   },
   "outputs": [
    {
     "data": {
      "text/plain": [
       "8"
      ]
     },
     "execution_count": 22,
     "metadata": {},
     "output_type": "execute_result"
    }
   ],
   "source": [
    "migration_rates = pop.column('MIGRATION') / pop.column('2015')\n",
    "movers = sum(migration_rates > 0.01)\n",
    "movers"
   ]
  },
  {
   "cell_type": "code",
   "execution_count": 23,
   "metadata": {
    "deletable": false,
    "editable": false
   },
   "outputs": [
    {
     "data": {
      "text/html": [
       "<p><strong><pre style='display: inline;'>q2_2</pre></strong> passed! 🍀</p>"
      ],
      "text/plain": [
       "q2_2 results: All test cases passed!"
      ]
     },
     "execution_count": 23,
     "metadata": {},
     "output_type": "execute_result"
    }
   ],
   "source": [
    "grader.check(\"q2_2\")"
   ]
  },
  {
   "cell_type": "markdown",
   "metadata": {},
   "source": [
    "---\n",
    "\n",
    "**Question 3.** Assign `west_births` to the total number of births that occurred in region 4 (the Western US). **(4 Points)**\n",
    "\n",
    "*Hint:* Make sure you double check the type of the values in the `REGION` column and appropriately filter (i.e. the types must match!).\n"
   ]
  },
  {
   "cell_type": "code",
   "execution_count": 24,
   "metadata": {
    "tags": []
   },
   "outputs": [
    {
     "data": {
      "text/plain": [
       "979657"
      ]
     },
     "execution_count": 24,
     "metadata": {},
     "output_type": "execute_result"
    }
   ],
   "source": [
    "west_births = sum(pop.where('REGION', are.equal_to(4)).column('BIRTHS'))\n",
    "west_births"
   ]
  },
  {
   "cell_type": "code",
   "execution_count": 25,
   "metadata": {
    "deletable": false,
    "editable": false
   },
   "outputs": [
    {
     "data": {
      "text/html": [
       "<p><strong><pre style='display: inline;'>q2_3</pre></strong> passed! 🎉</p>"
      ],
      "text/plain": [
       "q2_3 results: All test cases passed!"
      ]
     },
     "execution_count": 25,
     "metadata": {},
     "output_type": "execute_result"
    }
   ],
   "source": [
    "grader.check(\"q2_3\")"
   ]
  },
  {
   "cell_type": "markdown",
   "metadata": {},
   "source": [
    "---\n",
    "\n",
    "**Question 4.** In the next question, you will be creating a visualization to understand the relationship between birth and death rates. The annual death rate for a year-long period is the total number of deaths in that period as a proportion of the population size at the start of the time period.\n",
    "\n",
    "What visualization is most appropriate to see if there is an association between annual birth and death rates across multiple states in the United States?\n",
    "\n",
    "1. Line Graph\n",
    "2. Bar Chart\n",
    "3. Scatter Plot\n",
    "\n",
    "Assign `visualization` below to the number corresponding to the correct visualization. **(4 Points)**\n"
   ]
  },
  {
   "cell_type": "code",
   "execution_count": 26,
   "metadata": {
    "tags": []
   },
   "outputs": [],
   "source": [
    "visualization = 3"
   ]
  },
  {
   "cell_type": "code",
   "execution_count": 27,
   "metadata": {
    "deletable": false,
    "editable": false
   },
   "outputs": [
    {
     "data": {
      "text/html": [
       "<p><strong><pre style='display: inline;'>q2_4</pre></strong> passed! 🌈</p>"
      ],
      "text/plain": [
       "q2_4 results: All test cases passed!"
      ]
     },
     "execution_count": 27,
     "metadata": {},
     "output_type": "execute_result"
    }
   ],
   "source": [
    "grader.check(\"q2_4\")"
   ]
  },
  {
   "cell_type": "markdown",
   "metadata": {},
   "source": [
    "<!-- BEGIN QUESTION -->\n",
    "\n",
    "--- \n",
    "\n",
    "**Question 5.** In the code cell below, create a visualization that will help us determine if there is an association between birth rate and death rate during this time interval. It may be helpful to create an intermediate table containing the birth and death rates for each state. **(4 Points)**\n",
    "\n",
    "Things to consider:\n",
    "\n",
    "- What type of chart will help us illustrate an association between 2 variables?\n",
    "- How can you manipulate a certain table to help generate your chart?\n",
    "- Check out the [Recommended Reading](https://inferentialthinking.com/chapters/07/Visualization.html) for this homework!\n"
   ]
  },
  {
   "cell_type": "code",
   "execution_count": 28,
   "metadata": {
    "deletable": false,
    "manual_problem_id": "birth_death_rates_graph",
    "tags": []
   },
   "outputs": [
    {
     "data": {
      "image/png": "[encoded data removed]",
      "text/plain": [
       "<Figure size 500x500 with 1 Axes>"
      ]
     },
     "metadata": {},
     "output_type": "display_data"
    }
   ],
   "source": [
    "# In this cell, use birth_rates and death_rates to generate your visualization\n",
    "birth_rates_2015 = pop.column('BIRTHS') / pop.column('2015')\n",
    "death_rates_2015 = pop.column('DEATHS') / pop.column('2015')\n",
    "birth_death_table = Table().with_columns('Birth Rate', birth_rates_2015, 'Death Rate', death_rates_2015)\n",
    "birth_death_table.scatter('Birth Rate', 'Death Rate')"
   ]
  },
  {
   "cell_type": "markdown",
   "metadata": {},
   "source": [
    "<!-- END QUESTION -->\n",
    "\n",
    "---\n",
    "\n",
    "**Question 6.** True or False: There is an association between birth rate and death rate during this time interval. \n",
    "\n",
    "Assign `assoc` to `True` or `False` in the cell below. **(4 Points)**\n"
   ]
  },
  {
   "cell_type": "code",
   "execution_count": 29,
   "metadata": {
    "tags": []
   },
   "outputs": [],
   "source": [
    "assoc = False"
   ]
  },
  {
   "cell_type": "code",
   "execution_count": 30,
   "metadata": {
    "deletable": false,
    "editable": false
   },
   "outputs": [
    {
     "data": {
      "text/html": [
       "<p><strong><pre style='display: inline;'>q2_6</pre></strong> passed! 🌈</p>"
      ],
      "text/plain": [
       "q2_6 results: All test cases passed!"
      ]
     },
     "execution_count": 30,
     "metadata": {},
     "output_type": "execute_result"
    }
   ],
   "source": [
    "grader.check(\"q2_6\")"
   ]
  },
  {
   "cell_type": "markdown",
   "metadata": {},
   "source": [
    "<hr style=\"border: 5px solid #003262;\" />\n",
    "<hr style=\"border: 1px solid #fdb515;\" />\n",
    "\n",
    "## 3. Uber"
   ]
  },
  {
   "cell_type": "markdown",
   "metadata": {},
   "source": [
    "**Note:** We recommend reading [Chapter 7.2](https://inferentialthinking.com/chapters/07/2/Visualizing_Numerical_Distributions.html) of the textbook before starting on Question 3."
   ]
  },
  {
   "cell_type": "markdown",
   "metadata": {},
   "source": [
    "Below we load tables containing 200,000 weekday Uber rides in the Manila, Philippines, and Boston, Massachusetts metropolitan areas from the [Uber Movement](https://www.uber.com/newsroom/introducing-uber-movement-2/) project. The `sourceid` and `dstid` columns contain codes corresponding to start and end locations of each ride. The `hod` column contains codes corresponding to the hour of the day the ride took place. The `ride time` column contains the length of the ride in minutes."
   ]
  },
  {
   "cell_type": "code",
   "execution_count": 31,
   "metadata": {
    "for_question_type": "solution",
    "scrolled": true
   },
   "outputs": [
    {
     "name": "stdout",
     "output_type": "stream",
     "text": [
      "Boston Table\n"
     ]
    },
    {
     "data": {
      "text/html": [
       "<table border=\"1\" class=\"dataframe\">\n",
       "    <thead>\n",
       "        <tr>\n",
       "            <th>sourceid</th> <th>dstid</th> <th>hod</th> <th>ride time</th>\n",
       "        </tr>\n",
       "    </thead>\n",
       "    <tbody>\n",
       "        <tr>\n",
       "            <td>584     </td> <td>33   </td> <td>7   </td> <td>11.866   </td>\n",
       "        </tr>\n",
       "        <tr>\n",
       "            <td>1013    </td> <td>1116 </td> <td>13  </td> <td>17.7993  </td>\n",
       "        </tr>\n",
       "        <tr>\n",
       "            <td>884     </td> <td>1190 </td> <td>22  </td> <td>19.3488  </td>\n",
       "        </tr>\n",
       "        <tr>\n",
       "            <td>211     </td> <td>364  </td> <td>1   </td> <td>1.7235   </td>\n",
       "        </tr>\n",
       "    </tbody>\n",
       "</table>\n",
       "<p>... (199996 rows omitted)</p>"
      ],
      "text/plain": [
       "<IPython.core.display.HTML object>"
      ]
     },
     "metadata": {},
     "output_type": "display_data"
    },
    {
     "name": "stdout",
     "output_type": "stream",
     "text": [
      "Manila Table\n"
     ]
    },
    {
     "data": {
      "text/html": [
       "<table border=\"1\" class=\"dataframe\">\n",
       "    <thead>\n",
       "        <tr>\n",
       "            <th>sourceid</th> <th>dstid</th> <th>hod</th> <th>ride time</th>\n",
       "        </tr>\n",
       "    </thead>\n",
       "    <tbody>\n",
       "        <tr>\n",
       "            <td>544     </td> <td>5    </td> <td>22  </td> <td>22.8115  </td>\n",
       "        </tr>\n",
       "        <tr>\n",
       "            <td>302     </td> <td>240  </td> <td>21  </td> <td>7.02267  </td>\n",
       "        </tr>\n",
       "        <tr>\n",
       "            <td>278     </td> <td>99   </td> <td>16  </td> <td>21.6437  </td>\n",
       "        </tr>\n",
       "        <tr>\n",
       "            <td>720     </td> <td>775  </td> <td>18  </td> <td>13.0597  </td>\n",
       "        </tr>\n",
       "    </tbody>\n",
       "</table>\n",
       "<p>... (199996 rows omitted)</p>"
      ],
      "text/plain": [
       "<IPython.core.display.HTML object>"
      ]
     },
     "metadata": {},
     "output_type": "display_data"
    }
   ],
   "source": [
    "boston = Table.read_table(\"boston.csv\")\n",
    "manila = Table.read_table(\"manila.csv\")\n",
    "print(\"Boston Table\")\n",
    "boston.show(4)\n",
    "print(\"Manila Table\")\n",
    "manila.show(4)"
   ]
  },
  {
   "cell_type": "markdown",
   "metadata": {},
   "source": [
    "<!-- BEGIN QUESTION -->\n",
    "\n",
    "--- \n",
    "\n",
    "**Question 1.** Produce a histogram that visualizes the distributions of all ride times in Boston using the given bins in `equal_bins`. **(4 Points)**\n",
    "\n",
    "*Hint:* See [Chapter 7.2](https://inferentialthinking.com/chapters/07/2/Visualizing_Numerical_Distributions.html) if you're stuck on how to specify bins."
   ]
  },
  {
   "cell_type": "code",
   "execution_count": 32,
   "metadata": {
    "deletable": false,
    "manual_problem_id": "uber_1",
    "scrolled": true,
    "tags": []
   },
   "outputs": [
    {
     "data": {
      "image/png": "[encoded data removed]",
      "text/plain": [
       "<Figure size 600x400 with 1 Axes>"
      ]
     },
     "metadata": {},
     "output_type": "display_data"
    }
   ],
   "source": [
    "equal_bins = np.arange(0, 120, 5)\n",
    "boston.hist('ride time', bins = equal_bins, unit = 'year')"
   ]
  },
  {
   "cell_type": "markdown",
   "metadata": {},
   "source": [
    "<!-- END QUESTION -->\n",
    "\n",
    "<!-- BEGIN QUESTION -->\n",
    "\n",
    "---\n",
    "\n",
    "**Question 2.** Now, produce a histogram that visualizes the distribution of all ride times in Manila using the given bins. **(4 Points)**\n"
   ]
  },
  {
   "cell_type": "code",
   "execution_count": 33,
   "metadata": {
    "scrolled": true,
    "tags": []
   },
   "outputs": [
    {
     "data": {
      "image/png": "[encoded data removed]",
      "text/plain": [
       "<Figure size 600x400 with 1 Axes>"
      ]
     },
     "metadata": {},
     "output_type": "display_data"
    }
   ],
   "source": [
    "equal_bins = np.arange(0, 120, 5)\n",
    "manila.hist('ride time', bins = equal_bins, unit = 'year')\n",
    "\n",
    "# Don't delete the following line!\n",
    "plt.ylim(0, 0.05);"
   ]
  },
  {
   "cell_type": "markdown",
   "metadata": {},
   "source": [
    "<!-- END QUESTION -->\n",
    "\n",
    "---\n",
    "\n",
    "**Question 3.** Let's take a closer look at the y-axis label. Assign `unit_meaning` to an integer (1, 2, 3) that corresponds to the \"unit\" in \"Percent per unit\". **(4 Points)**\n",
    "\n",
    "1. minute  \n",
    "2. ride time  \n",
    "3. second\n"
   ]
  },
  {
   "cell_type": "code",
   "execution_count": 34,
   "metadata": {
    "tags": []
   },
   "outputs": [
    {
     "data": {
      "text/plain": [
       "2"
      ]
     },
     "execution_count": 34,
     "metadata": {},
     "output_type": "execute_result"
    }
   ],
   "source": [
    "unit_meaning = 2\n",
    "unit_meaning"
   ]
  },
  {
   "cell_type": "code",
   "execution_count": 35,
   "metadata": {
    "deletable": false,
    "editable": false
   },
   "outputs": [
    {
     "data": {
      "text/html": [
       "<p><strong><pre style='display: inline;'>q3_3</pre></strong> passed! ✨</p>"
      ],
      "text/plain": [
       "q3_3 results: All test cases passed!"
      ]
     },
     "execution_count": 35,
     "metadata": {},
     "output_type": "execute_result"
    }
   ],
   "source": [
    "grader.check(\"q3_3\")"
   ]
  },
  {
   "cell_type": "markdown",
   "metadata": {},
   "source": [
    "---\n",
    "\n",
    "**Question 4.** Assign `boston_under_15` and `manila_under_15` to the percentage of rides that are less than 15 minutes in their respective metropolitan areas. Use the height variables provided below in order to compute the percentages. Your solution should only use height variables, numbers, and mathematical operations. You should **not** access the tables `boston` and `manila` in any way. **(4 Points)**\n",
    "\n",
    "> ***Note:*** that the height variables (i.e. `boston_under_5`) represent the height of the bin it describes.\n"
   ]
  },
  {
   "cell_type": "code",
   "execution_count": 36,
   "metadata": {
    "deletable": false,
    "manual_problem_id": "uber_2",
    "tags": []
   },
   "outputs": [
    {
     "data": {
      "text/plain": [
       "(9.3, 4.2)"
      ]
     },
     "execution_count": 36,
     "metadata": {},
     "output_type": "execute_result"
    }
   ],
   "source": [
    "boston_under_5_bin_height = 1.2\n",
    "manila_under_5_bin_height = 0.6\n",
    "boston_5_to_under_10_bin_height = 3.2\n",
    "manila_5_to_under_10_bin_height = 1.4\n",
    "boston_10_to_under_15_bin_height = 4.9\n",
    "manila_10_to_under_15_bin_height = 2.2\n",
    "\n",
    "boston_under_15 = boston_under_5_bin_height + boston_5_to_under_10_bin_height + boston_10_to_under_15_bin_height\n",
    "manila_under_15 = manila_under_5_bin_height + manila_5_to_under_10_bin_height + manila_10_to_under_15_bin_height\n",
    "\n",
    "boston_under_15, manila_under_15"
   ]
  },
  {
   "cell_type": "code",
   "execution_count": 37,
   "metadata": {
    "deletable": false,
    "editable": false
   },
   "outputs": [
    {
     "data": {
      "text/html": [
       "<p><strong><pre style='display: inline;'>q3_4</pre></strong> passed! 🎉</p>"
      ],
      "text/plain": [
       "q3_4 results: All test cases passed!"
      ]
     },
     "execution_count": 37,
     "metadata": {},
     "output_type": "execute_result"
    }
   ],
   "source": [
    "grader.check(\"q3_4\")"
   ]
  },
  {
   "cell_type": "markdown",
   "metadata": {},
   "source": [
    "---\n",
    "\n",
    "**Question 5.** Let's take a closer look at the distribution of ride times in Boston. Assign `boston_median_bin` to an integer (1, 2, 3, or 4) that corresponds to the bin that contains the median time. **(4 Points)**\n",
    "\n",
    "1. 0-8 minutes  \n",
    "2. 8-14 minutes  \n",
    "3. 14-20 minutes  \n",
    "4. 20-40 minutes  \n",
    "\n",
    "*Hint:* The median of a sorted list has half of the list elements to its left, and half to its right.\n"
   ]
  },
  {
   "cell_type": "code",
   "execution_count": 38,
   "metadata": {
    "tags": []
   },
   "outputs": [
    {
     "data": {
      "text/plain": [
       "2"
      ]
     },
     "execution_count": 38,
     "metadata": {},
     "output_type": "execute_result"
    }
   ],
   "source": [
    "boston_median_bin = 2\n",
    "boston_median_bin"
   ]
  },
  {
   "cell_type": "code",
   "execution_count": 39,
   "metadata": {
    "deletable": false,
    "editable": false
   },
   "outputs": [
    {
     "data": {
      "text/html": [
       "<p><strong><pre style='display: inline;'>q3_5</pre></strong> passed! 🌈</p>"
      ],
      "text/plain": [
       "q3_5 results: All test cases passed!"
      ]
     },
     "execution_count": 39,
     "metadata": {},
     "output_type": "execute_result"
    }
   ],
   "source": [
    "grader.check(\"q3_5\")"
   ]
  },
  {
   "cell_type": "markdown",
   "metadata": {},
   "source": [
    "<!-- BEGIN QUESTION -->\n",
    "\n",
    "---\n",
    "\n",
    "**Question 6.** Identify one difference between the histograms, in terms of the statistical properties. \n",
    "> *Hint*: Without performing any calculations, can you comment on the average or skew of each histogram? **(4 Points)**\n"
   ]
  },
  {
   "cell_type": "markdown",
   "metadata": {},
   "source": [
    "The histograms are right-skewed with mean of about 15."
   ]
  },
  {
   "cell_type": "markdown",
   "metadata": {},
   "source": [
    "<!-- END QUESTION -->\n",
    "\n",
    "<!-- BEGIN QUESTION -->\n",
    "\n",
    "--- \n",
    "\n",
    "**Question 7.** Why is your solution in Question 6 the case? Based on one of the following two readings, why are the distributions for Boston and Manila different? **(4 Points)**\n",
    "\n",
    "- [Boston reading](https://www.climatestotravel.com/climate/united-states/boston)\n",
    "- [Manila reading](https://manilafyi.com/why-is-manila-traffic-so-bad/)\n",
    "\n",
    "*Hint:* Try thinking about external factors of the two cities that may be causing the difference! The readings provide some potential factors -- try to connect them to the ride time data.\n"
   ]
  },
  {
   "cell_type": "markdown",
   "metadata": {},
   "source": [
    "The traffic in Manila is worse than that in Boston."
   ]
  },
  {
   "cell_type": "markdown",
   "metadata": {
    "tags": []
   },
   "source": [
    "<!-- END QUESTION -->\n",
    "\n",
    "<hr style=\"border: 5px solid #003262;\" />\n",
    "<hr style=\"border: 1px solid #fdb515;\" />\n",
    "\n",
    "## 4. Histograms"
   ]
  },
  {
   "cell_type": "markdown",
   "metadata": {},
   "source": [
    "Consider the following scatter plot: \n",
    "\n",
    "![Alt text](scatter.png \"Scatter plot showing data points for the variables 'x' and 'y'. The data are symmetric about the x-axis centered at 0 and symmetric about the y-axis centered at 0, but with no data in the [-0.5, 0.5] range on the y-axis.\")\n",
    "\n",
    "The axes of the plot represent values of two variables: $x$ and $y$. "
   ]
  },
  {
   "cell_type": "markdown",
   "metadata": {},
   "source": [
    "Suppose we have a table called `t` that has two columns in it:\n",
    "\n",
    "- `x`: a column containing the x-values of the points in the scatter plot\n",
    "- `y`: a column containing the y-values of the points in the scatter plot"
   ]
  },
  {
   "cell_type": "markdown",
   "metadata": {},
   "source": [
    "Below, you are given three histograms—one corresponds to column `x`, one corresponds to column `y`, and one does not correspond to either column. "
   ]
  },
  {
   "cell_type": "markdown",
   "metadata": {},
   "source": [
    "**Histogram A:**\n",
    " \n",
    "![Alt text](var3.png \"Symmetrical, bell-shaped histogram centered around 0\")\n",
    "\n",
    "**Histogram B:**\n",
    "\n",
    "![Alt text](var1.png \"Symmetrical histogram with two peaks at -1 and 1 but no data around 0\")\n",
    "\n",
    "**Histogram C:**\n",
    "\n",
    "![Alt text](var2.png \"Asymmetrical histogram with a peak around -0.5 and a right skew\")"
   ]
  },
  {
   "cell_type": "markdown",
   "metadata": {},
   "source": [
    "---\n",
    "\n",
    "**Question 1.** Suppose we run `t.hist('x')`. Which histogram does this code produce? Assign `histogram_column_x` to either 1, 2, or 3. **(5 Points)**\n",
    "\n",
    "1. Histogram A\n",
    "2. Histogram B\n",
    "3. Histogram C\n"
   ]
  },
  {
   "cell_type": "code",
   "execution_count": 40,
   "metadata": {
    "tags": []
   },
   "outputs": [],
   "source": [
    "histogram_column_x = 3"
   ]
  },
  {
   "cell_type": "code",
   "execution_count": 41,
   "metadata": {
    "deletable": false,
    "editable": false
   },
   "outputs": [
    {
     "data": {
      "text/html": [
       "<p><strong><pre style='display: inline;'>q4_1</pre></strong> passed! 🙌</p>"
      ],
      "text/plain": [
       "q4_1 results: All test cases passed!"
      ]
     },
     "execution_count": 41,
     "metadata": {},
     "output_type": "execute_result"
    }
   ],
   "source": [
    "grader.check(\"q4_1\")"
   ]
  },
  {
   "cell_type": "markdown",
   "metadata": {},
   "source": [
    "<!-- BEGIN QUESTION -->\n",
    "\n",
    "---\n",
    "\n",
    "**Question 2.** State at least one reason why you chose the histogram from Question 1. **Make sure to clearly indicate which histogram you selected** (ex: \"I chose histogram A because ...\"). **(5 Points)**\n"
   ]
  },
  {
   "cell_type": "markdown",
   "metadata": {},
   "source": [
    "I chose histogram C because the x-value with most points is below 0, and the distribution of the points by x-value is asymmetrical with a peak around -0.5 and a right skew."
   ]
  },
  {
   "cell_type": "markdown",
   "metadata": {},
   "source": [
    "<!-- END QUESTION -->\n",
    "\n",
    "---\n",
    "\n",
    "**Question 3.** Suppose we run `t.hist('y')`. Which histogram does this code produce? Assign `histogram_column_y` to either 1, 2, or 3. **(5 Points)**\n",
    "\n",
    "1. Histogram A\n",
    "2. Histogram B\n",
    "3. Histogram C\n"
   ]
  },
  {
   "cell_type": "code",
   "execution_count": 42,
   "metadata": {
    "tags": []
   },
   "outputs": [],
   "source": [
    "histogram_column_y = 2"
   ]
  },
  {
   "cell_type": "code",
   "execution_count": 43,
   "metadata": {
    "deletable": false,
    "editable": false
   },
   "outputs": [
    {
     "data": {
      "text/html": [
       "<p><strong><pre style='display: inline;'>q4_3</pre></strong> passed! 🙌</p>"
      ],
      "text/plain": [
       "q4_3 results: All test cases passed!"
      ]
     },
     "execution_count": 43,
     "metadata": {},
     "output_type": "execute_result"
    }
   ],
   "source": [
    "grader.check(\"q4_3\")"
   ]
  },
  {
   "cell_type": "markdown",
   "metadata": {},
   "source": [
    "<!-- BEGIN QUESTION -->\n",
    "\n",
    "---\n",
    "\n",
    "**Question 4.** State at least one reason why you chose the histogram from Question 3.  **Make sure to clearly indicate which histogram you selected** (ex: \"I chose histogram A because ...\"). **(5 Points)**\n"
   ]
  },
  {
   "cell_type": "markdown",
   "metadata": {},
   "source": [
    "I chose histogram B because there is no point that has y-value = 0."
   ]
  },
  {
   "attachments": {},
   "cell_type": "markdown",
   "metadata": {},
   "source": [
    "<!-- END QUESTION -->\n",
    "\n",
    "You're done with Homework 3!  \n",
    "\n",
    "**Important submission steps:** \n",
    "1. Run the tests and verify that they all pass.\n",
    "2. Choose **Save Notebook** from the **File** menu, then **run the final two cells**. \n",
    "3. Click the link to download the zip and pdf file.\n",
    "4. Go to [Gradescope](https://www.gradescope.com) and submit the zip file to the corresponding assignment. The name of this assignment is \"Homework 3 Autograder\". \n",
    "\n",
    "**It is your responsibility to make sure your work is saved before running the last cell.**"
   ]
  },
  {
   "attachments": {},
   "cell_type": "markdown",
   "metadata": {},
   "source": [
    "## Pets of Data 8\n",
    "**Sparky** says congrats on finishing HW 3!\n",
    "\n",
    "<img src=\"./izzy.jpeg\" width=\"40%\" alt=\"Sparky th Maltipoo sleeping on couch\"/>"
   ]
  },
  {
   "cell_type": "markdown",
   "metadata": {},
   "source": [
    "## Submission\n",
    "\n",
    "Below, you will see two cells. Running the first cell will automatically generate a PDF of all questions that need to be manually graded, and running the second cell will automatically generate a zip with your autograded answers. You are responsible for submitting both the coding portion (the zip) and the written portion (the PDF) to their respective Gradescope portals. **Please save before exporting!**\n",
    "\n",
    "> **Important: You must correctly assign the pages of your PDF after you submit to the correct gradescope assignment. If your pages are not correctly assigned and/or not in the correct PDF format by the deadline, we reserve the right to award no points for your written work.**\n",
    "\n",
    "If there are issues with automatically generating the PDF in the first cell, you can try downloading the notebook as a PDF by colicking on `File -> Save and Export Notebook As... -> PDF`. If that doesn't work either, you can manually take screenshots of your answers to the manually graded questions and submit those. Either way, **you are responsible for ensuring your submision follows our requirements, we will NOT be granting regrade requests for submissions that don't follow instructions.**\n",
    "\n",
    "**You must submit the PDF generated via one of these methods, we will not accept screenshots or Word documents.**"
   ]
  },
  {
   "cell_type": "code",
   "execution_count": 44,
   "metadata": {},
   "outputs": [
    {
     "ename": "PandocMissing",
     "evalue": "Pandoc wasn't found.\nPlease check that pandoc is installed:\nhttps://pandoc.org/installing.html",
     "output_type": "error",
     "traceback": [
      "\u001b[1;31m---------------------------------------------------------------------------\u001b[0m",
      "\u001b[1;31mPandocMissing\u001b[0m                             Traceback (most recent call last)",
      "Cell \u001b[1;32mIn[44], line 5\u001b[0m\n\u001b[0;32m      3\u001b[0m \u001b[38;5;28;01mfrom\u001b[39;00m\u001b[38;5;250m \u001b[39m\u001b[38;5;21;01mIPython\u001b[39;00m\u001b[38;5;21;01m.\u001b[39;00m\u001b[38;5;21;01mdisplay\u001b[39;00m\u001b[38;5;250m \u001b[39m\u001b[38;5;28;01mimport\u001b[39;00m display, HTML\n\u001b[0;32m      4\u001b[0m name \u001b[38;5;241m=\u001b[39m \u001b[38;5;124m'\u001b[39m\u001b[38;5;124mhw03\u001b[39m\u001b[38;5;124m'\u001b[39m\n\u001b[1;32m----> 5\u001b[0m \u001b[43mexport_notebook\u001b[49m\u001b[43m(\u001b[49m\u001b[38;5;124;43mf\u001b[39;49m\u001b[38;5;124;43m\"\u001b[39;49m\u001b[38;5;132;43;01m{\u001b[39;49;00m\u001b[43mname\u001b[49m\u001b[38;5;132;43;01m}\u001b[39;49;00m\u001b[38;5;124;43m.ipynb\u001b[39;49m\u001b[38;5;124;43m\"\u001b[39;49m\u001b[43m,\u001b[49m\u001b[43m \u001b[49m\u001b[43mfiltering\u001b[49m\u001b[38;5;241;43m=\u001b[39;49m\u001b[38;5;28;43;01mTrue\u001b[39;49;00m\u001b[43m,\u001b[49m\u001b[43m \u001b[49m\u001b[43mpagebreaks\u001b[49m\u001b[38;5;241;43m=\u001b[39;49m\u001b[38;5;28;43;01mTrue\u001b[39;49;00m\u001b[43m)\u001b[49m\n\u001b[0;32m      6\u001b[0m \u001b[38;5;28;01mif\u001b[39;00m(path\u001b[38;5;241m.\u001b[39mexists(\u001b[38;5;124mf\u001b[39m\u001b[38;5;124m'\u001b[39m\u001b[38;5;132;01m{\u001b[39;00mname\u001b[38;5;132;01m}\u001b[39;00m\u001b[38;5;124m.pdf\u001b[39m\u001b[38;5;124m'\u001b[39m)):\n\u001b[0;32m      7\u001b[0m     display(HTML(\u001b[38;5;124mf\u001b[39m\u001b[38;5;124m\"\u001b[39m\u001b[38;5;124mDownload your PDF <a href=\u001b[39m\u001b[38;5;124m'\u001b[39m\u001b[38;5;132;01m{\u001b[39;00mname\u001b[38;5;132;01m}\u001b[39;00m\u001b[38;5;124m.pdf\u001b[39m\u001b[38;5;124m'\u001b[39m\u001b[38;5;124m download>here</a>.\u001b[39m\u001b[38;5;124m\"\u001b[39m))\n",
      "File \u001b[1;32mc:\\Users\\giakh\\miniconda3\\envs\\datascience\\lib\\site-packages\\otter\\export\\__init__.py:43\u001b[0m, in \u001b[0;36mexport_notebook\u001b[1;34m(nb_path, dest, exporter_type, **kwargs)\u001b[0m\n\u001b[0;32m     40\u001b[0m     pdf_name \u001b[38;5;241m=\u001b[39m os\u001b[38;5;241m.\u001b[39mpath\u001b[38;5;241m.\u001b[39msplitext(nb_path)[\u001b[38;5;241m0\u001b[39m] \u001b[38;5;241m+\u001b[39m \u001b[38;5;124m\"\u001b[39m\u001b[38;5;124m.pdf\u001b[39m\u001b[38;5;124m\"\u001b[39m\n\u001b[0;32m     42\u001b[0m Exporter \u001b[38;5;241m=\u001b[39m get_exporter(exporter_type\u001b[38;5;241m=\u001b[39mexporter_type)\n\u001b[1;32m---> 43\u001b[0m Exporter\u001b[38;5;241m.\u001b[39mconvert_notebook(nb_path, pdf_name, \u001b[38;5;241m*\u001b[39m\u001b[38;5;241m*\u001b[39mkwargs)\n\u001b[0;32m     45\u001b[0m \u001b[38;5;28;01mreturn\u001b[39;00m pdf_name\n",
      "File \u001b[1;32mc:\\Users\\giakh\\miniconda3\\envs\\datascience\\lib\\site-packages\\otter\\export\\exporters\\via_latex.py:71\u001b[0m, in \u001b[0;36mPDFViaLatexExporter.convert_notebook\u001b[1;34m(cls, nb_path, dest, xecjk, **kwargs)\u001b[0m\n\u001b[0;32m     68\u001b[0m     \u001b[38;5;28;01mwith\u001b[39;00m \u001b[38;5;28mopen\u001b[39m(os\u001b[38;5;241m.\u001b[39mpath\u001b[38;5;241m.\u001b[39msplitext(dest)[\u001b[38;5;241m0\u001b[39m] \u001b[38;5;241m+\u001b[39m \u001b[38;5;124m\"\u001b[39m\u001b[38;5;124m.tex\u001b[39m\u001b[38;5;124m\"\u001b[39m, \u001b[38;5;124m\"\u001b[39m\u001b[38;5;124mw+\u001b[39m\u001b[38;5;124m\"\u001b[39m) \u001b[38;5;28;01mas\u001b[39;00m output_file:\n\u001b[0;32m     69\u001b[0m         output_file\u001b[38;5;241m.\u001b[39mwrite(latex_output[\u001b[38;5;241m0\u001b[39m])\n\u001b[1;32m---> 71\u001b[0m pdf_output \u001b[38;5;241m=\u001b[39m \u001b[43mnbconvert\u001b[49m\u001b[38;5;241;43m.\u001b[39;49m\u001b[43mexport\u001b[49m\u001b[43m(\u001b[49m\u001b[43mpdf_exporter\u001b[49m\u001b[43m,\u001b[49m\u001b[43m \u001b[49m\u001b[43mnb\u001b[49m\u001b[43m)\u001b[49m\n\u001b[0;32m     72\u001b[0m \u001b[38;5;28;01mwith\u001b[39;00m \u001b[38;5;28mopen\u001b[39m(dest, \u001b[38;5;124m\"\u001b[39m\u001b[38;5;124mwb\u001b[39m\u001b[38;5;124m\"\u001b[39m) \u001b[38;5;28;01mas\u001b[39;00m output_file:\n\u001b[0;32m     73\u001b[0m     output_file\u001b[38;5;241m.\u001b[39mwrite(pdf_output[\u001b[38;5;241m0\u001b[39m])\n",
      "File \u001b[1;32mc:\\Users\\giakh\\miniconda3\\envs\\datascience\\lib\\site-packages\\nbconvert\\exporters\\base.py:86\u001b[0m, in \u001b[0;36mexport\u001b[1;34m(exporter, nb, **kw)\u001b[0m\n\u001b[0;32m     84\u001b[0m \u001b[38;5;66;03m# Try to convert the notebook using the appropriate conversion function.\u001b[39;00m\n\u001b[0;32m     85\u001b[0m \u001b[38;5;28;01mif\u001b[39;00m \u001b[38;5;28misinstance\u001b[39m(nb, NotebookNode):\n\u001b[1;32m---> 86\u001b[0m     output, resources \u001b[38;5;241m=\u001b[39m \u001b[43mexporter_instance\u001b[49m\u001b[38;5;241;43m.\u001b[39;49m\u001b[43mfrom_notebook_node\u001b[49m\u001b[43m(\u001b[49m\u001b[43mnb\u001b[49m\u001b[43m,\u001b[49m\u001b[43m \u001b[49m\u001b[43mresources\u001b[49m\u001b[43m)\u001b[49m\n\u001b[0;32m     87\u001b[0m \u001b[38;5;28;01melif\u001b[39;00m \u001b[38;5;28misinstance\u001b[39m(nb, (\u001b[38;5;28mstr\u001b[39m,)):\n\u001b[0;32m     88\u001b[0m     output, resources \u001b[38;5;241m=\u001b[39m exporter_instance\u001b[38;5;241m.\u001b[39mfrom_filename(nb, resources)\n",
      "File \u001b[1;32mc:\\Users\\giakh\\miniconda3\\envs\\datascience\\lib\\site-packages\\nbconvert\\exporters\\pdf.py:184\u001b[0m, in \u001b[0;36mPDFExporter.from_notebook_node\u001b[1;34m(self, nb, resources, **kw)\u001b[0m\n\u001b[0;32m    182\u001b[0m \u001b[38;5;28;01mdef\u001b[39;00m\u001b[38;5;250m \u001b[39m\u001b[38;5;21mfrom_notebook_node\u001b[39m(\u001b[38;5;28mself\u001b[39m, nb, resources\u001b[38;5;241m=\u001b[39m\u001b[38;5;28;01mNone\u001b[39;00m, \u001b[38;5;241m*\u001b[39m\u001b[38;5;241m*\u001b[39mkw):\n\u001b[0;32m    183\u001b[0m \u001b[38;5;250m    \u001b[39m\u001b[38;5;124;03m\"\"\"Convert from notebook node.\"\"\"\u001b[39;00m\n\u001b[1;32m--> 184\u001b[0m     latex, resources \u001b[38;5;241m=\u001b[39m \u001b[38;5;28msuper\u001b[39m()\u001b[38;5;241m.\u001b[39mfrom_notebook_node(nb, resources\u001b[38;5;241m=\u001b[39mresources, \u001b[38;5;241m*\u001b[39m\u001b[38;5;241m*\u001b[39mkw)\n\u001b[0;32m    185\u001b[0m     \u001b[38;5;66;03m# set texinputs directory, so that local files will be found\u001b[39;00m\n\u001b[0;32m    186\u001b[0m     \u001b[38;5;28;01mif\u001b[39;00m resources \u001b[38;5;129;01mand\u001b[39;00m resources\u001b[38;5;241m.\u001b[39mget(\u001b[38;5;124m\"\u001b[39m\u001b[38;5;124mmetadata\u001b[39m\u001b[38;5;124m\"\u001b[39m, {})\u001b[38;5;241m.\u001b[39mget(\u001b[38;5;124m\"\u001b[39m\u001b[38;5;124mpath\u001b[39m\u001b[38;5;124m\"\u001b[39m):\n",
      "File \u001b[1;32mc:\\Users\\giakh\\miniconda3\\envs\\datascience\\lib\\site-packages\\nbconvert\\exporters\\latex.py:92\u001b[0m, in \u001b[0;36mLatexExporter.from_notebook_node\u001b[1;34m(self, nb, resources, **kw)\u001b[0m\n\u001b[0;32m     86\u001b[0m convert_explicitly_relative_paths \u001b[38;5;241m=\u001b[39m \u001b[38;5;28mself\u001b[39m\u001b[38;5;241m.\u001b[39mfilters\u001b[38;5;241m.\u001b[39mget(\n\u001b[0;32m     87\u001b[0m     \u001b[38;5;124m\"\u001b[39m\u001b[38;5;124mconvert_explicitly_relative_paths\u001b[39m\u001b[38;5;124m\"\u001b[39m,\n\u001b[0;32m     88\u001b[0m     ConvertExplicitlyRelativePaths(texinputs\u001b[38;5;241m=\u001b[39mtexinputs, parent\u001b[38;5;241m=\u001b[39m\u001b[38;5;28mself\u001b[39m),\n\u001b[0;32m     89\u001b[0m )\n\u001b[0;32m     90\u001b[0m \u001b[38;5;28mself\u001b[39m\u001b[38;5;241m.\u001b[39mregister_filter(\u001b[38;5;124m\"\u001b[39m\u001b[38;5;124mconvert_explicitly_relative_paths\u001b[39m\u001b[38;5;124m\"\u001b[39m, convert_explicitly_relative_paths)\n\u001b[1;32m---> 92\u001b[0m \u001b[38;5;28;01mreturn\u001b[39;00m \u001b[38;5;28msuper\u001b[39m()\u001b[38;5;241m.\u001b[39mfrom_notebook_node(nb, resources, \u001b[38;5;241m*\u001b[39m\u001b[38;5;241m*\u001b[39mkw)\n",
      "File \u001b[1;32mc:\\Users\\giakh\\miniconda3\\envs\\datascience\\lib\\site-packages\\nbconvert\\exporters\\templateexporter.py:429\u001b[0m, in \u001b[0;36mTemplateExporter.from_notebook_node\u001b[1;34m(self, nb, resources, **kw)\u001b[0m\n\u001b[0;32m    415\u001b[0m resources[\u001b[38;5;124m\"\u001b[39m\u001b[38;5;124mglobal_content_filter\u001b[39m\u001b[38;5;124m\"\u001b[39m] \u001b[38;5;241m=\u001b[39m {\n\u001b[0;32m    416\u001b[0m     \u001b[38;5;124m\"\u001b[39m\u001b[38;5;124minclude_code\u001b[39m\u001b[38;5;124m\"\u001b[39m: \u001b[38;5;129;01mnot\u001b[39;00m \u001b[38;5;28mself\u001b[39m\u001b[38;5;241m.\u001b[39mexclude_code_cell,\n\u001b[0;32m    417\u001b[0m     \u001b[38;5;124m\"\u001b[39m\u001b[38;5;124minclude_markdown\u001b[39m\u001b[38;5;124m\"\u001b[39m: \u001b[38;5;129;01mnot\u001b[39;00m \u001b[38;5;28mself\u001b[39m\u001b[38;5;241m.\u001b[39mexclude_markdown,\n\u001b[1;32m   (...)\u001b[0m\n\u001b[0;32m    425\u001b[0m     \u001b[38;5;124m\"\u001b[39m\u001b[38;5;124mno_prompt\u001b[39m\u001b[38;5;124m\"\u001b[39m: \u001b[38;5;28mself\u001b[39m\u001b[38;5;241m.\u001b[39mexclude_input_prompt \u001b[38;5;129;01mand\u001b[39;00m \u001b[38;5;28mself\u001b[39m\u001b[38;5;241m.\u001b[39mexclude_output_prompt,\n\u001b[0;32m    426\u001b[0m }\n\u001b[0;32m    428\u001b[0m \u001b[38;5;66;03m# Top level variables are passed to the template_exporter here.\u001b[39;00m\n\u001b[1;32m--> 429\u001b[0m output \u001b[38;5;241m=\u001b[39m \u001b[38;5;28;43mself\u001b[39;49m\u001b[38;5;241;43m.\u001b[39;49m\u001b[43mtemplate\u001b[49m\u001b[38;5;241;43m.\u001b[39;49m\u001b[43mrender\u001b[49m\u001b[43m(\u001b[49m\u001b[43mnb\u001b[49m\u001b[38;5;241;43m=\u001b[39;49m\u001b[43mnb_copy\u001b[49m\u001b[43m,\u001b[49m\u001b[43m \u001b[49m\u001b[43mresources\u001b[49m\u001b[38;5;241;43m=\u001b[39;49m\u001b[43mresources\u001b[49m\u001b[43m)\u001b[49m\n\u001b[0;32m    430\u001b[0m output \u001b[38;5;241m=\u001b[39m output\u001b[38;5;241m.\u001b[39mlstrip(\u001b[38;5;124m\"\u001b[39m\u001b[38;5;130;01m\\r\u001b[39;00m\u001b[38;5;130;01m\\n\u001b[39;00m\u001b[38;5;124m\"\u001b[39m)\n\u001b[0;32m    431\u001b[0m \u001b[38;5;28;01mreturn\u001b[39;00m output, resources\n",
      "File \u001b[1;32mc:\\Users\\giakh\\miniconda3\\envs\\datascience\\lib\\site-packages\\jinja2\\environment.py:1295\u001b[0m, in \u001b[0;36mTemplate.render\u001b[1;34m(self, *args, **kwargs)\u001b[0m\n\u001b[0;32m   1293\u001b[0m     \u001b[38;5;28;01mreturn\u001b[39;00m \u001b[38;5;28mself\u001b[39m\u001b[38;5;241m.\u001b[39menvironment\u001b[38;5;241m.\u001b[39mconcat(\u001b[38;5;28mself\u001b[39m\u001b[38;5;241m.\u001b[39mroot_render_func(ctx))  \u001b[38;5;66;03m# type: ignore\u001b[39;00m\n\u001b[0;32m   1294\u001b[0m \u001b[38;5;28;01mexcept\u001b[39;00m \u001b[38;5;167;01mException\u001b[39;00m:\n\u001b[1;32m-> 1295\u001b[0m     \u001b[38;5;28;43mself\u001b[39;49m\u001b[38;5;241;43m.\u001b[39;49m\u001b[43menvironment\u001b[49m\u001b[38;5;241;43m.\u001b[39;49m\u001b[43mhandle_exception\u001b[49m\u001b[43m(\u001b[49m\u001b[43m)\u001b[49m\n",
      "File \u001b[1;32mc:\\Users\\giakh\\miniconda3\\envs\\datascience\\lib\\site-packages\\jinja2\\environment.py:942\u001b[0m, in \u001b[0;36mEnvironment.handle_exception\u001b[1;34m(self, source)\u001b[0m\n\u001b[0;32m    937\u001b[0m \u001b[38;5;250m\u001b[39m\u001b[38;5;124;03m\"\"\"Exception handling helper.  This is used internally to either raise\u001b[39;00m\n\u001b[0;32m    938\u001b[0m \u001b[38;5;124;03mrewritten exceptions or return a rendered traceback for the template.\u001b[39;00m\n\u001b[0;32m    939\u001b[0m \u001b[38;5;124;03m\"\"\"\u001b[39;00m\n\u001b[0;32m    940\u001b[0m \u001b[38;5;28;01mfrom\u001b[39;00m\u001b[38;5;250m \u001b[39m\u001b[38;5;21;01m.\u001b[39;00m\u001b[38;5;21;01mdebug\u001b[39;00m\u001b[38;5;250m \u001b[39m\u001b[38;5;28;01mimport\u001b[39;00m rewrite_traceback_stack\n\u001b[1;32m--> 942\u001b[0m \u001b[38;5;28;01mraise\u001b[39;00m rewrite_traceback_stack(source\u001b[38;5;241m=\u001b[39msource)\n",
      "File \u001b[1;32mc:\\Users\\giakh\\miniconda3\\envs\\datascience\\lib\\site-packages\\otter\\export\\exporters\\templates\\via_latex\\index.tex.j2:7\u001b[0m, in \u001b[0;36mtop-level template code\u001b[1;34m()\u001b[0m\n\u001b[0;32m      5\u001b[0m \n\u001b[0;32m      6\u001b[0m % Inherit from the specified cell style.\n\u001b[1;32m----> 7\u001b[0m ((* extends cell_style *))\n\u001b[0;32m      8\u001b[0m \n\u001b[0;32m      9\u001b[0m \n",
      "File \u001b[1;32mc:\\Users\\giakh\\miniconda3\\envs\\datascience\\share\\jupyter\\nbconvert\\templates\\latex\\style_ipython.tex.j2:68\u001b[0m, in \u001b[0;36mtop-level template code\u001b[1;34m()\u001b[0m\n\u001b[0;32m     66\u001b[0m     ((*- set indention =  \" \" * (execution_count | length + 7) -*))\n\u001b[0;32m     67\u001b[0m \\begin{Verbatim}[commandchars=\\\\\\{\\}]\n\u001b[1;32m---> 68\u001b[0m ((( text | add_prompts(first='{\\\\color{' ~ prompt_color ~ '}' ~ prompt ~ '[{\\\\color{' ~ prompt_color ~ '}' ~ execution_count ~ '}]:} ', cont=indention) )))\n\u001b[0;32m     69\u001b[0m \\end{Verbatim}\n\u001b[0;32m     70\u001b[0m ((*- endmacro *))\n",
      "File \u001b[1;32mc:\\Users\\giakh\\miniconda3\\envs\\datascience\\share\\jupyter\\nbconvert\\templates\\latex\\base.tex.j2:7\u001b[0m, in \u001b[0;36mtop-level template code\u001b[1;34m()\u001b[0m\n\u001b[0;32m      5\u001b[0m override this.-=))\n\u001b[0;32m      6\u001b[0m \n\u001b[1;32m----> 7\u001b[0m ((*- extends 'document_contents.tex.j2' -*))\n\u001b[0;32m      8\u001b[0m \n\u001b[0;32m      9\u001b[0m %===============================================================================\n",
      "File \u001b[1;32mc:\\Users\\giakh\\miniconda3\\envs\\datascience\\share\\jupyter\\nbconvert\\templates\\latex\\document_contents.tex.j2:51\u001b[0m, in \u001b[0;36mtop-level template code\u001b[1;34m()\u001b[0m\n\u001b[0;32m     49\u001b[0m ((* macro draw_figure(filename) -*))\n\u001b[0;32m     50\u001b[0m ((* set filename = filename | posix_path *))\n\u001b[1;32m---> 51\u001b[0m ((*- block figure scoped -*))\n\u001b[0;32m     52\u001b[0m     \\begin{center}\n\u001b[0;32m     53\u001b[0m     \\adjustimage{max size={0.9\\linewidth}{0.9\\paperheight}}{((( filename )))}\n",
      "File \u001b[1;32mc:\\Users\\giakh\\miniconda3\\envs\\datascience\\share\\jupyter\\nbconvert\\templates\\latex\\display_priority.j2:5\u001b[0m, in \u001b[0;36mtop-level template code\u001b[1;34m()\u001b[0m\n\u001b[0;32m      3\u001b[0m \n\u001b[0;32m      4\u001b[0m \n\u001b[1;32m----> 5\u001b[0m ((*- extends 'null.j2' -*))\n\u001b[0;32m      6\u001b[0m \n\u001b[0;32m      7\u001b[0m ((=display data priority=))\n",
      "File \u001b[1;32mc:\\Users\\giakh\\miniconda3\\envs\\datascience\\share\\jupyter\\nbconvert\\templates\\latex\\null.j2:30\u001b[0m, in \u001b[0;36mtop-level template code\u001b[1;34m()\u001b[0m\n\u001b[0;32m     28\u001b[0m ((*- block header -*))\n\u001b[0;32m     29\u001b[0m ((*- endblock header -*))\n\u001b[1;32m---> 30\u001b[0m ((*- block body -*))\n\u001b[0;32m     31\u001b[0m ((*- for cell in nb.cells -*))\n\u001b[0;32m     32\u001b[0m     ((*- block any_cell scoped -*))\n",
      "File \u001b[1;32mc:\\Users\\giakh\\miniconda3\\envs\\datascience\\share\\jupyter\\nbconvert\\templates\\latex\\base.tex.j2:241\u001b[0m, in \u001b[0;36mblock 'body'\u001b[1;34m()\u001b[0m\n\u001b[0;32m    239\u001b[0m ((* endblock predoc *))\n\u001b[0;32m    240\u001b[0m \n\u001b[1;32m--> 241\u001b[0m ((( super() )))\n\u001b[0;32m    242\u001b[0m \n\u001b[0;32m    243\u001b[0m % Add a bibliography block to the postdoc\n",
      "File \u001b[1;32mc:\\Users\\giakh\\miniconda3\\envs\\datascience\\share\\jupyter\\nbconvert\\templates\\latex\\null.j2:32\u001b[0m, in \u001b[0;36mblock 'body'\u001b[1;34m()\u001b[0m\n\u001b[0;32m     30\u001b[0m ((*- block body -*))\n\u001b[0;32m     31\u001b[0m ((*- for cell in nb.cells -*))\n\u001b[1;32m---> 32\u001b[0m     ((*- block any_cell scoped -*))\n\u001b[0;32m     33\u001b[0m         ((*- if cell.cell_type == 'code'-*))\n\u001b[0;32m     34\u001b[0m             ((*- if resources.global_content_filter.include_code -*))\n",
      "File \u001b[1;32mc:\\Users\\giakh\\miniconda3\\envs\\datascience\\share\\jupyter\\nbconvert\\templates\\latex\\null.j2:85\u001b[0m, in \u001b[0;36mblock 'any_cell'\u001b[1;34m()\u001b[0m\n\u001b[0;32m     83\u001b[0m ((*- elif cell.cell_type in ['markdown'] -*))\n\u001b[0;32m     84\u001b[0m     ((*- if resources.global_content_filter.include_markdown and not cell.metadata.get(\"transient\",{}).get(\"remove_source\", false) -*))\n\u001b[1;32m---> 85\u001b[0m         ((*- block markdowncell scoped-*)) ((*- endblock markdowncell -*))\n\u001b[0;32m     86\u001b[0m     ((*- endif -*))\n\u001b[0;32m     87\u001b[0m ((*- elif cell.cell_type in ['raw'] -*))\n",
      "File \u001b[1;32mc:\\Users\\giakh\\miniconda3\\envs\\datascience\\lib\\site-packages\\otter\\export\\exporters\\templates\\via_latex\\index.tex.j2:32\u001b[0m, in \u001b[0;36mblock 'markdowncell'\u001b[1;34m()\u001b[0m\n\u001b[0;32m     30\u001b[0m \t\t\\cleartooddpage\n\u001b[0;32m     31\u001b[0m         ((*- endif -*))\n\u001b[1;32m---> 32\u001b[0m ((( super() )))\n\u001b[0;32m     33\u001b[0m ((* endblock markdowncell *))\n\u001b[0;32m     34\u001b[0m \n",
      "File \u001b[1;32mc:\\Users\\giakh\\miniconda3\\envs\\datascience\\share\\jupyter\\nbconvert\\templates\\latex\\document_contents.tex.j2:68\u001b[0m, in \u001b[0;36mblock 'markdowncell'\u001b[1;34m()\u001b[0m\n\u001b[0;32m     66\u001b[0m % Render markdown\n\u001b[0;32m     67\u001b[0m ((* block markdowncell scoped *))\n\u001b[1;32m---> 68\u001b[0m     ((( cell.source | citation2latex | strip_files_prefix | convert_pandoc('markdown+tex_math_double_backslash', 'json',extra_args=[]) | resolve_references | convert_explicitly_relative_paths | convert_pandoc('json','latex'))))\n\u001b[0;32m     69\u001b[0m ((* endblock markdowncell *))\n\u001b[0;32m     70\u001b[0m \n",
      "File \u001b[1;32mc:\\Users\\giakh\\miniconda3\\envs\\datascience\\lib\\site-packages\\nbconvert\\filters\\pandoc.py:36\u001b[0m, in \u001b[0;36mconvert_pandoc\u001b[1;34m(source, from_format, to_format, extra_args)\u001b[0m\n\u001b[0;32m     16\u001b[0m \u001b[38;5;28;01mdef\u001b[39;00m\u001b[38;5;250m \u001b[39m\u001b[38;5;21mconvert_pandoc\u001b[39m(source, from_format, to_format, extra_args\u001b[38;5;241m=\u001b[39m\u001b[38;5;28;01mNone\u001b[39;00m):\n\u001b[0;32m     17\u001b[0m \u001b[38;5;250m    \u001b[39m\u001b[38;5;124;03m\"\"\"Convert between any two formats using pandoc.\u001b[39;00m\n\u001b[0;32m     18\u001b[0m \n\u001b[0;32m     19\u001b[0m \u001b[38;5;124;03m    This function will raise an error if pandoc is not installed.\u001b[39;00m\n\u001b[1;32m   (...)\u001b[0m\n\u001b[0;32m     34\u001b[0m \u001b[38;5;124;03m        Output as returned by pandoc.\u001b[39;00m\n\u001b[0;32m     35\u001b[0m \u001b[38;5;124;03m    \"\"\"\u001b[39;00m\n\u001b[1;32m---> 36\u001b[0m     \u001b[38;5;28;01mreturn\u001b[39;00m \u001b[43mpandoc\u001b[49m\u001b[43m(\u001b[49m\u001b[43msource\u001b[49m\u001b[43m,\u001b[49m\u001b[43m \u001b[49m\u001b[43mfrom_format\u001b[49m\u001b[43m,\u001b[49m\u001b[43m \u001b[49m\u001b[43mto_format\u001b[49m\u001b[43m,\u001b[49m\u001b[43m \u001b[49m\u001b[43mextra_args\u001b[49m\u001b[38;5;241;43m=\u001b[39;49m\u001b[43mextra_args\u001b[49m\u001b[43m)\u001b[49m\n",
      "File \u001b[1;32mc:\\Users\\giakh\\miniconda3\\envs\\datascience\\lib\\site-packages\\nbconvert\\utils\\pandoc.py:50\u001b[0m, in \u001b[0;36mpandoc\u001b[1;34m(source, fmt, to, extra_args, encoding)\u001b[0m\n\u001b[0;32m     47\u001b[0m     cmd\u001b[38;5;241m.\u001b[39mextend(extra_args)\n\u001b[0;32m     49\u001b[0m \u001b[38;5;66;03m# this will raise an exception that will pop us out of here\u001b[39;00m\n\u001b[1;32m---> 50\u001b[0m \u001b[43mcheck_pandoc_version\u001b[49m\u001b[43m(\u001b[49m\u001b[43m)\u001b[49m\n\u001b[0;32m     52\u001b[0m \u001b[38;5;66;03m# we can safely continue\u001b[39;00m\n\u001b[0;32m     53\u001b[0m p \u001b[38;5;241m=\u001b[39m subprocess\u001b[38;5;241m.\u001b[39mPopen(cmd, stdin\u001b[38;5;241m=\u001b[39msubprocess\u001b[38;5;241m.\u001b[39mPIPE, stdout\u001b[38;5;241m=\u001b[39msubprocess\u001b[38;5;241m.\u001b[39mPIPE)  \u001b[38;5;66;03m# noqa: S603\u001b[39;00m\n",
      "File \u001b[1;32mc:\\Users\\giakh\\miniconda3\\envs\\datascience\\lib\\site-packages\\nbconvert\\utils\\pandoc.py:98\u001b[0m, in \u001b[0;36mcheck_pandoc_version\u001b[1;34m()\u001b[0m\n\u001b[0;32m     95\u001b[0m \u001b[38;5;28;01mif\u001b[39;00m check_pandoc_version\u001b[38;5;241m.\u001b[39m_cached \u001b[38;5;129;01mis\u001b[39;00m \u001b[38;5;129;01mnot\u001b[39;00m \u001b[38;5;28;01mNone\u001b[39;00m:  \u001b[38;5;66;03m# type:ignore[attr-defined]\u001b[39;00m\n\u001b[0;32m     96\u001b[0m     \u001b[38;5;28;01mreturn\u001b[39;00m check_pandoc_version\u001b[38;5;241m.\u001b[39m_cached  \u001b[38;5;66;03m# type:ignore[attr-defined]\u001b[39;00m\n\u001b[1;32m---> 98\u001b[0m v \u001b[38;5;241m=\u001b[39m \u001b[43mget_pandoc_version\u001b[49m\u001b[43m(\u001b[49m\u001b[43m)\u001b[49m\n\u001b[0;32m     99\u001b[0m \u001b[38;5;28;01mif\u001b[39;00m v \u001b[38;5;129;01mis\u001b[39;00m \u001b[38;5;28;01mNone\u001b[39;00m:\n\u001b[0;32m    100\u001b[0m     warnings\u001b[38;5;241m.\u001b[39mwarn(\n\u001b[0;32m    101\u001b[0m         \u001b[38;5;124m\"\u001b[39m\u001b[38;5;124mSorry, we cannot determine the version of pandoc.\u001b[39m\u001b[38;5;130;01m\\n\u001b[39;00m\u001b[38;5;124m\"\u001b[39m\n\u001b[0;32m    102\u001b[0m         \u001b[38;5;124m\"\u001b[39m\u001b[38;5;124mPlease consider reporting this issue and include the\u001b[39m\u001b[38;5;124m\"\u001b[39m\n\u001b[1;32m   (...)\u001b[0m\n\u001b[0;32m    105\u001b[0m         stacklevel\u001b[38;5;241m=\u001b[39m\u001b[38;5;241m2\u001b[39m,\n\u001b[0;32m    106\u001b[0m     )\n",
      "File \u001b[1;32mc:\\Users\\giakh\\miniconda3\\envs\\datascience\\lib\\site-packages\\nbconvert\\utils\\pandoc.py:75\u001b[0m, in \u001b[0;36mget_pandoc_version\u001b[1;34m()\u001b[0m\n\u001b[0;32m     73\u001b[0m \u001b[38;5;28;01mif\u001b[39;00m __version \u001b[38;5;129;01mis\u001b[39;00m \u001b[38;5;28;01mNone\u001b[39;00m:\n\u001b[0;32m     74\u001b[0m     \u001b[38;5;28;01mif\u001b[39;00m \u001b[38;5;129;01mnot\u001b[39;00m shutil\u001b[38;5;241m.\u001b[39mwhich(\u001b[38;5;124m\"\u001b[39m\u001b[38;5;124mpandoc\u001b[39m\u001b[38;5;124m\"\u001b[39m):\n\u001b[1;32m---> 75\u001b[0m         \u001b[38;5;28;01mraise\u001b[39;00m PandocMissing()\n\u001b[0;32m     77\u001b[0m     out \u001b[38;5;241m=\u001b[39m subprocess\u001b[38;5;241m.\u001b[39mcheck_output([\u001b[38;5;124m\"\u001b[39m\u001b[38;5;124mpandoc\u001b[39m\u001b[38;5;124m\"\u001b[39m, \u001b[38;5;124m\"\u001b[39m\u001b[38;5;124m-v\u001b[39m\u001b[38;5;124m\"\u001b[39m])  \u001b[38;5;66;03m# noqa: S607, S603\u001b[39;00m\n\u001b[0;32m     78\u001b[0m     out_lines \u001b[38;5;241m=\u001b[39m out\u001b[38;5;241m.\u001b[39msplitlines()\n",
      "\u001b[1;31mPandocMissing\u001b[0m: Pandoc wasn't found.\nPlease check that pandoc is installed:\nhttps://pandoc.org/installing.html"
     ]
    }
   ],
   "source": [
    "from otter.export import export_notebook\n",
    "from os import path\n",
    "from IPython.display import display, HTML\n",
    "name = 'hw03'\n",
    "export_notebook(f\"{name}.ipynb\", filtering=True, pagebreaks=True)\n",
    "if(path.exists(f'{name}.pdf')):\n",
    "    display(HTML(f\"Download your PDF <a href='{name}.pdf' download>here</a>.\"))\n",
    "else:\n",
    "    print(\"\\n Pdf generation failed, please try the other methods described above\")"
   ]
  },
  {
   "cell_type": "markdown",
   "metadata": {
    "deletable": false,
    "editable": false
   },
   "source": [
    "## Submission\n",
    "\n",
    "Make sure you have run all cells in your notebook in order before running the cell below, so that all images/graphs appear in the output. The cell below will generate a zip file for you to submit. **Please save before exporting!**"
   ]
  },
  {
   "cell_type": "code",
   "execution_count": null,
   "metadata": {
    "deletable": false,
    "editable": false
   },
   "outputs": [
    {
     "name": "stdout",
     "output_type": "stream",
     "text": [
      "Running your submission against local test cases...\n",
      "\n",
      "\n",
      "Your submission received the following results when run against available test cases:\n",
      "\n",
      "    q1_1 results: All test cases passed!\n",
      "\n",
      "    q1_2 results: All test cases passed!\n",
      "\n",
      "    q1_3 results: All test cases passed!\n",
      "\n",
      "    q1_4 results: All test cases passed!\n",
      "\n",
      "    q1_5 results: All test cases passed!\n",
      "\n",
      "    q1_6 results: All test cases passed!\n",
      "\n",
      "    q1_7 results: All test cases passed!\n",
      "\n",
      "    q2_1 results: All test cases passed!\n",
      "\n",
      "    q2_2 results: All test cases passed!\n",
      "\n",
      "    q2_3 results: All test cases passed!\n",
      "\n",
      "    q2_4 results: All test cases passed!\n",
      "\n",
      "    q2_6 results: All test cases passed!\n",
      "\n",
      "    q3_3 results: All test cases passed!\n",
      "\n",
      "    q3_4 results: All test cases passed!\n",
      "\n",
      "    q3_5 results: All test cases passed!\n",
      "\n",
      "    q4_1 results: All test cases passed!\n",
      "\n",
      "    q4_3 results: All test cases passed!\n"
     ]
    },
    {
     "data": {
      "text/html": [
       "\n",
       "                    <p>\n",
       "                        Your submission has been exported. Click\n",
       "                        <a href=\"hw03_2025_03_02T13_52_19_901134.zip\" download=\"hw03_2025_03_02T13_52_19_901134.zip\" target=\"_blank\">here</a> to download\n",
       "                        the zip file.\n",
       "                    </p>\n",
       "                "
      ],
      "text/plain": [
       "<IPython.core.display.HTML object>"
      ]
     },
     "metadata": {},
     "output_type": "display_data"
    }
   ],
   "source": [
    "# Save your notebook first, then run this cell to export your submission.\n",
    "grader.export(pdf=False, run_tests=True)"
   ]
  },
  {
   "cell_type": "markdown",
   "metadata": {},
   "source": [
    " "
   ]
  }
 ],
 "metadata": {
  "kernelspec": {
   "display_name": "datascience",
   "language": "python",
   "name": "python3"
  },
  "language_info": {
   "codemirror_mode": {
    "name": "ipython",
    "version": 3
   },
   "file_extension": ".py",
   "mimetype": "text/x-python",
   "name": "python",
   "nbconvert_exporter": "python",
   "pygments_lexer": "ipython3",
   "version": "3.9.21"
  },
  "otter": {
   "OK_FORMAT": true,
   "tests": {
    "q1_1": {
     "name": "q1_1",
     "points": [
      4
     ],
     "suites": [
      {
       "cases": [
        {
         "code": ">>> unemployment.select('Date', 'NEI', 'NEI-PTER').take(0)\nDate       | NEI     | NEI-PTER\n1994-01-01 | 10.0974 | 11.172",
         "hidden": false,
         "locked": false
        }
       ],
       "scored": true,
       "setup": "",
       "teardown": "",
       "type": "doctest"
      }
     ]
    },
    "q1_2": {
     "name": "q1_2",
     "points": [
      2,
      2
     ],
     "suites": [
      {
       "cases": [
        {
         "code": ">>> by_nei.take(0)\nDate       | NEI     | NEI-PTER\n2009-10-01 | 10.9698 | 12.8557",
         "hidden": false,
         "locked": false
        },
        {
         "code": ">>> by_nei_pter.take(0)\nDate       | NEI     | NEI-PTER\n2009-10-01 | 10.9698 | 12.8557",
         "hidden": false,
         "locked": false
        }
       ],
       "scored": true,
       "setup": "",
       "teardown": "",
       "type": "doctest"
      }
     ]
    },
    "q1_3": {
     "name": "q1_3",
     "points": [
      2
     ],
     "suites": [
      {
       "cases": [
        {
         "code": ">>> greatest_nei.take(0)\nDate       | NEI     | NEI-PTER\n2009-10-01 | 10.9698 | 12.8557",
         "hidden": false,
         "locked": false
        }
       ],
       "scored": true,
       "setup": "",
       "teardown": "",
       "type": "doctest"
      }
     ]
    },
    "q1_4": {
     "name": "q1_4",
     "points": [
      1,
      3
     ],
     "suites": [
      {
       "cases": [
        {
         "code": ">>> # It looks like you subtracted in the wrong order.\n>>> round(pter.item(6), 4) != -1.1282\nTrue",
         "hidden": false,
         "locked": false
        },
        {
         "code": ">>> round(pter.item(6), 4)\n1.1282",
         "hidden": false,
         "locked": false
        }
       ],
       "scored": true,
       "setup": "",
       "teardown": "",
       "type": "doctest"
      }
     ]
    },
    "q1_5": {
     "name": "q1_5",
     "points": [
      4
     ],
     "suites": [
      {
       "cases": [
        {
         "code": ">>> by_pter.take(0)\nDate       | NEI     | NEI-PTER | PTER\n2009-07-01 | 10.8089 | 12.7404  | 1.9315",
         "hidden": false,
         "locked": false
        }
       ],
       "scored": true,
       "setup": "",
       "teardown": "",
       "type": "doctest"
      }
     ]
    },
    "q1_6": {
     "name": "q1_6",
     "points": [
      0
     ],
     "suites": [
      {
       "cases": [
        {
         "code": ">>> pter_over_time.take(0)\nDate       | NEI     | NEI-PTER | Year | PTER\n1994-01-01 | 10.0974 | 11.172   | 1994 | 1.0746",
         "hidden": false,
         "locked": false
        }
       ],
       "scored": true,
       "setup": "",
       "teardown": "",
       "type": "doctest"
      }
     ]
    },
    "q1_7": {
     "name": "q1_7",
     "points": [
      0
     ],
     "suites": [
      {
       "cases": [
        {
         "code": ">>> highPTER == True or highPTER == False\nTrue",
         "hidden": false,
         "locked": false
        }
       ],
       "scored": true,
       "setup": "",
       "teardown": "",
       "type": "doctest"
      }
     ]
    },
    "q2_1": {
     "name": "q2_1",
     "points": [
      0
     ],
     "suites": [
      {
       "cases": [
        {
         "code": ">>> 0 < us_birth_rate < 1\nTrue",
         "hidden": false,
         "locked": false
        }
       ],
       "scored": true,
       "setup": "",
       "teardown": "",
       "type": "doctest"
      }
     ]
    },
    "q2_2": {
     "name": "q2_2",
     "points": [
      0
     ],
     "suites": [
      {
       "cases": [
        {
         "code": ">>> 0 < movers <= 52\nTrue",
         "hidden": false,
         "locked": false
        }
       ],
       "scored": true,
       "setup": "",
       "teardown": "",
       "type": "doctest"
      }
     ]
    },
    "q2_3": {
     "name": "q2_3",
     "points": [
      0
     ],
     "suites": [
      {
       "cases": [
        {
         "code": ">>> 5e5 < west_births < 1e6\nTrue",
         "hidden": false,
         "locked": false
        }
       ],
       "scored": true,
       "setup": "",
       "teardown": "",
       "type": "doctest"
      }
     ]
    },
    "q2_4": {
     "name": "q2_4",
     "points": [
      0,
      0
     ],
     "suites": [
      {
       "cases": [
        {
         "code": ">>> # visualization should be assigned to an integer.\n>>> type(visualization) == int\nTrue",
         "hidden": false,
         "locked": false
        },
        {
         "code": ">>> # Make sure visualization is assigned to 1, 2 or 3.\n>>> 1 <= visualization <= 3\nTrue",
         "hidden": false,
         "locked": false
        }
       ],
       "scored": true,
       "setup": "",
       "teardown": "",
       "type": "doctest"
      }
     ]
    },
    "q2_6": {
     "name": "q2_6",
     "points": [
      0
     ],
     "suites": [
      {
       "cases": [
        {
         "code": ">>> type(assoc) is bool\nTrue",
         "hidden": false,
         "locked": false
        }
       ],
       "scored": true,
       "setup": "",
       "teardown": "",
       "type": "doctest"
      }
     ]
    },
    "q3_3": {
     "name": "q3_3",
     "points": [
      0
     ],
     "suites": [
      {
       "cases": [
        {
         "code": ">>> 1 <= unit_meaning <= 3\nTrue",
         "hidden": false,
         "locked": false
        }
       ],
       "scored": true,
       "setup": "",
       "teardown": "",
       "type": "doctest"
      }
     ]
    },
    "q3_4": {
     "name": "q3_4",
     "points": [
      0,
      0
     ],
     "suites": [
      {
       "cases": [
        {
         "code": ">>> boston_under_15 >= 0 and boston_under_15 <= 100\nTrue",
         "hidden": false,
         "locked": false
        },
        {
         "code": ">>> manila_under_15 >= 0 and manila_under_15 <= 100\nTrue",
         "hidden": false,
         "locked": false
        }
       ],
       "scored": true,
       "setup": "",
       "teardown": "",
       "type": "doctest"
      }
     ]
    },
    "q3_5": {
     "name": "q3_5",
     "points": [
      0
     ],
     "suites": [
      {
       "cases": [
        {
         "code": ">>> # Make sure boston_median_bin is assigned to 1, 2, 3, or 4.\n>>> 1 <= boston_median_bin <= 4\nTrue",
         "hidden": false,
         "locked": false
        }
       ],
       "scored": true,
       "setup": "",
       "teardown": "",
       "type": "doctest"
      }
     ]
    },
    "q4_1": {
     "name": "q4_1",
     "points": [
      0,
      1
     ],
     "suites": [
      {
       "cases": [
        {
         "code": ">>> # Make sure you assign histogram_column_x to either 1 or 2!\n>>> type(histogram_column_x) == int\nTrue",
         "hidden": false,
         "locked": false
        },
        {
         "code": ">>> histogram_column_x == 1 or histogram_column_x == 2 or histogram_column_x == 3\nTrue",
         "hidden": false,
         "locked": false
        }
       ],
       "scored": true,
       "setup": "",
       "teardown": "",
       "type": "doctest"
      }
     ]
    },
    "q4_3": {
     "name": "q4_3",
     "points": [
      0,
      1
     ],
     "suites": [
      {
       "cases": [
        {
         "code": ">>> # Make sure you assign histogram_column_y to either 1 or 2!\n>>> type(histogram_column_y) == int\nTrue",
         "hidden": false,
         "locked": false
        },
        {
         "code": ">>> # Make sure histogram_column_y is assigned to 1, 2 or 3.\n>>> histogram_column_y == 1 or histogram_column_y == 2 or histogram_column_y == 3\nTrue",
         "hidden": false,
         "locked": false
        }
       ],
       "scored": true,
       "setup": "",
       "teardown": "",
       "type": "doctest"
      }
     ]
    }
   }
  }
 },
 "nbformat": 4,
 "nbformat_minor": 5
}
