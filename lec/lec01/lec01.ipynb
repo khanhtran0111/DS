{
 "cells": [
  {
   "cell_type": "markdown",
   "metadata": {},
   "source": [
    "**Note:** In this lecture there is a lot of code. You are not expected to know any of this yet. This is just a preview of the things you will see in the next few weeks. \n"
   ]
  },
  {
   "cell_type": "markdown",
   "metadata": {},
   "source": [
    "## This is a Jupyter Notebook\n",
    "\n",
    "A Jupyter Notebook is a data-science environment that combines:\n",
    "\n",
    "1. **Narrative:** The text describing your analysis\n",
    "2. **Code:** The program that does the analysis\n",
    "3. **Results:** The output of the program\n",
    "\n",
    "The Jupyter environment was created by faculty here at Berkeley (Fernando Perez). These ideas are now in a lot of different technologies (e.g., Google Collab). \n"
   ]
  },
  {
   "cell_type": "markdown",
   "metadata": {},
   "source": [
    "## Our first example: analyzing the text of popular books"
   ]
  },
  {
   "cell_type": "markdown",
   "metadata": {},
   "source": [
    "We can use the tools of data science to study text.  For example, here we will do some basic analysis of *[\"Adventures of Huckleberry Finn\"](https://en.wikipedia.org/wiki/Adventures_of_Huckleberry_Finn)* (by Mark Twain) and from *[\"Little Women\"](https://en.wikipedia.org/wiki/Little_Women)* (by Louisa May Alcott).  \n",
    "\n",
    "Often the first step in data sciences is getting the data.  The following is a tiny program to download text from the web. More specifically, what you see below is a **function**. We will talk more about functions later on!"
   ]
  },
  {
   "cell_type": "code",
   "execution_count": null,
   "metadata": {},
   "outputs": [],
   "source": [
    "# A tiny program to download text from the web.\n",
    "def read_url(url): \n",
    "    from urllib.request import urlopen \n",
    "    import re\n",
    "    return re.sub('\\\\s+', ' ', urlopen(url).read().decode())"
   ]
  },
  {
   "cell_type": "markdown",
   "metadata": {},
   "source": [
    "Here we download the books, which are actually hosted on the Data 8 textbook website."
   ]
  },
  {
   "cell_type": "code",
   "execution_count": null,
   "metadata": {},
   "outputs": [],
   "source": [
    "huck_finn_url = 'https://www.inferentialthinking.com/data/huck_finn.txt'\n",
    "huck_finn_text = read_url(huck_finn_url)\n",
    "huck_finn_chapters = huck_finn_text.split('CHAPTER ')[44:]"
   ]
  },
  {
   "cell_type": "code",
   "execution_count": null,
   "metadata": {},
   "outputs": [],
   "source": [
    "little_women_url = 'https://www.inferentialthinking.com/data/little_women.txt'\n",
    "little_women_text = read_url(little_women_url)\n",
    "little_women_chapters = little_women_text.split('CHAPTER ')[1:]"
   ]
  },
  {
   "cell_type": "markdown",
   "metadata": {},
   "source": [
    "Let's look at the text from the first chapter of Huckleberry Finn:"
   ]
  },
  {
   "cell_type": "code",
   "execution_count": null,
   "metadata": {},
   "outputs": [],
   "source": [
    "huck_finn_chapters"
   ]
  },
  {
   "cell_type": "markdown",
   "metadata": {},
   "source": [
    "## Tables\n",
    "\n",
    "- A lot of data science is about transforming data. This is often in service of producing **tables**, a widely used data structure that we can more easily analyze our data with. \n",
    "- In this class you will use the `datascience` library (specifically created for this course!!) to manipulate and data."
   ]
  },
  {
   "cell_type": "code",
   "execution_count": null,
   "metadata": {},
   "outputs": [],
   "source": [
    "import datascience\n",
    "datascience.__version__"
   ]
  },
  {
   "cell_type": "code",
   "execution_count": null,
   "metadata": {},
   "outputs": [],
   "source": [
    "from datascience import *"
   ]
  },
  {
   "cell_type": "code",
   "execution_count": null,
   "metadata": {},
   "outputs": [],
   "source": [
    "Table().with_column('Chapters', huck_finn_chapters)"
   ]
  },
  {
   "cell_type": "markdown",
   "metadata": {},
   "source": [
    "## We will learn to summarize data"
   ]
  },
  {
   "cell_type": "markdown",
   "metadata": {},
   "source": [
    "We will explore data by extracting summaries. For example, we might ask, how often characters appeared in each chapter. We can use snippets of code to answer these questions."
   ]
  },
  {
   "cell_type": "code",
   "execution_count": null,
   "metadata": {},
   "outputs": [],
   "source": [
    "import numpy as np"
   ]
  },
  {
   "cell_type": "code",
   "execution_count": null,
   "metadata": {},
   "outputs": [],
   "source": [
    "np.char.count(huck_finn_chapters, 'Tom')"
   ]
  },
  {
   "cell_type": "code",
   "execution_count": null,
   "metadata": {},
   "outputs": [],
   "source": [
    "np.char.count(huck_finn_chapters, 'Jim')"
   ]
  },
  {
   "cell_type": "markdown",
   "metadata": {},
   "source": [
    "We can convert the results of our analysis into more tables."
   ]
  },
  {
   "cell_type": "code",
   "execution_count": null,
   "metadata": {},
   "outputs": [],
   "source": [
    "counts = Table().with_columns([\n",
    "    'Tom', np.char.count(huck_finn_chapters, 'Tom'),\n",
    "    'Jim', np.char.count(huck_finn_chapters, 'Jim'),\n",
    "    'Huck', np.char.count(huck_finn_chapters, 'Huck'),\n",
    "])\n",
    "counts"
   ]
  },
  {
   "cell_type": "markdown",
   "metadata": {},
   "source": [
    "## We will learn to visualize data"
   ]
  },
  {
   "cell_type": "markdown",
   "metadata": {},
   "source": [
    "- How many times is each character mentioned in Chapter 1, how many times in Chapters 1 and 2, and so on?\n",
    "- As we saw above, we could answer this with a table, but there are a lot of chapters!! Let's try something else."
   ]
  },
  {
   "cell_type": "code",
   "execution_count": null,
   "metadata": {},
   "outputs": [],
   "source": [
    "%matplotlib inline\n",
    "import matplotlib.pyplot as plt\n",
    "plt.style.use('fivethirtyeight')\n",
    "cum_counts_tom = np.cumsum(counts.column(\"Tom\"))\n",
    "cum_counts_jim = np.cumsum(counts.column(\"Jim\"))\n",
    "cum_counts_huck = np.cumsum(counts.column(\"Huck\"))\n",
    "cumulative_table = Table().with_columns(\n",
    "    'Chapter', np.arange(1, 44, 1),\n",
    "    'Tom', cum_counts_tom,\n",
    "    'Jim', cum_counts_jim,\n",
    "    'Huck', cum_counts_huck\n",
    ")\n",
    "cumulative_table.plot(column_for_xticks='Chapter')\n",
    "plt.title('Cumulative Number of Times Name Appears')\n",
    "plt.show()"
   ]
  },
  {
   "cell_type": "markdown",
   "metadata": {},
   "source": [
    "Here, we have plotted what we call *cumulative counts*."
   ]
  },
  {
   "cell_type": "markdown",
   "metadata": {},
   "source": [
    "What can we tell from this visualization?  What questions does this raise about the roles of Jim, Tom and Huck in the book?"
   ]
  },
  {
   "cell_type": "code",
   "execution_count": null,
   "metadata": {},
   "outputs": [],
   "source": [
    "# The chapters of Little Women\n",
    "Table().with_column('Chapters', little_women_chapters)"
   ]
  },
  {
   "cell_type": "markdown",
   "metadata": {},
   "source": [
    "We can explore the characters in Little Women using the same kind of analysis."
   ]
  },
  {
   "cell_type": "code",
   "execution_count": null,
   "metadata": {},
   "outputs": [],
   "source": [
    "# Counts of names in the chapters of Little Women\n",
    "names = ['Amy', 'Beth', 'Jo', 'Laurie', 'Meg']\n",
    "mentions = {name: np.char.count(little_women_chapters, name) for name in names}\n",
    "counts = Table().with_columns([\n",
    "        'Amy', mentions['Amy'],\n",
    "        'Beth', mentions['Beth'],\n",
    "        'Jo', mentions['Jo'],\n",
    "        'Laurie', mentions['Laurie'],\n",
    "        'Meg', mentions['Meg']\n",
    "    ])"
   ]
  },
  {
   "cell_type": "code",
   "execution_count": null,
   "metadata": {},
   "outputs": [],
   "source": [
    "# Plot the cumulative counts\n",
    "cum_counts_amy = np.cumsum(counts.column(\"Amy\"))\n",
    "cum_counts_beth = np.cumsum(counts.column(\"Beth\"))\n",
    "cum_counts_jo = np.cumsum(counts.column(\"Jo\"))\n",
    "cum_counts_laurie = np.cumsum(counts.column(\"Laurie\"))\n",
    "cum_counts_meg = np.cumsum(counts.column(\"Meg\"))\n",
    "\n",
    "cumulative_table = Table().with_columns(\n",
    "    'Chapter', np.arange(1, 48, 1),\n",
    "    'Amy', cum_counts_amy,\n",
    "    'Beth', cum_counts_beth,\n",
    "    'Jo', cum_counts_jo,\n",
    "    'Laurie', cum_counts_laurie,\n",
    "    'Meg', cum_counts_meg\n",
    ")\n",
    "\n",
    "cumulative_table.plot(column_for_xticks='Chapter')\n",
    "plt.title('Cumulative Number of Times Names Appear in Little Women')\n",
    "plt.show()"
   ]
  },
  {
   "cell_type": "markdown",
   "metadata": {},
   "source": [
    "We can use interactive tools as well!"
   ]
  },
  {
   "cell_type": "code",
   "execution_count": null,
   "metadata": {},
   "outputs": [],
   "source": [
    "# Plot the cumulative counts\n",
    "Table.interactive_plots()\n",
    "cumulative_table.plot(column_for_xticks=0)"
   ]
  },
  {
   "cell_type": "markdown",
   "metadata": {},
   "source": [
    "## Visualizing multiple variables\n",
    "\n",
    "- How long are the chapters in a book?\n",
    "- How many sentences are in a chapter? We can find where a period is used as a tool to help us determine this.\n",
    "\n",
    "You don't need to worry about understanding the code below for today!!\n"
   ]
  },
  {
   "cell_type": "code",
   "execution_count": null,
   "metadata": {},
   "outputs": [],
   "source": [
    "len(read_url(huck_finn_url))"
   ]
  },
  {
   "cell_type": "code",
   "execution_count": null,
   "metadata": {},
   "outputs": [],
   "source": [
    "# In each chapter, count the number of all characters;\n",
    "# call this the \"length\" of the chapter.\n",
    "# Also count the number of periods.\n",
    "\n",
    "length_hf = Table().with_columns([\n",
    "        'Length', [len(s) for s in huck_finn_chapters],\n",
    "        'Periods', np.char.count(huck_finn_chapters, '.')\n",
    "    ])\n",
    "length_lw = Table().with_columns([\n",
    "        'Length', [len(s) for s in little_women_chapters],\n",
    "        'Periods', np.char.count(little_women_chapters, '.')\n",
    "    ])"
   ]
  },
  {
   "cell_type": "code",
   "execution_count": null,
   "metadata": {},
   "outputs": [],
   "source": [
    "# The counts for Huckleberry Finn\n",
    "length_hf"
   ]
  },
  {
   "cell_type": "code",
   "execution_count": null,
   "metadata": {},
   "outputs": [],
   "source": [
    "# The counts for Little Women\n",
    "length_lw"
   ]
  },
  {
   "cell_type": "markdown",
   "metadata": {},
   "source": [
    "Now that we have a table for each book giving us the information on:\n",
    "\n",
    "- length per chapter\n",
    "- of periods per chapter\n",
    "\n",
    "We might consider examining how these two variables are related. Below is what is called a **scatter plot** (we will talk more in depth about this plot later on)!"
   ]
  },
  {
   "cell_type": "code",
   "execution_count": null,
   "metadata": {},
   "outputs": [],
   "source": [
    "Table.static_plots()\n",
    "plt.figure(figsize=(10,10))\n",
    "plt.scatter(length_hf[1], length_hf[0], color='darkblue')\n",
    "plt.scatter(length_lw[1], length_lw[0], color='gold')\n",
    "plt.xlabel('Number of periods in chapter')\n",
    "plt.ylabel('Number of characters in chapter');\n",
    "plt.title('Relationship between numbers of characters and periods in a chapter');"
   ]
  },
  {
   "cell_type": "markdown",
   "metadata": {},
   "source": [
    "This sub-example illustrates the relationship between difference facets of our course: namely, the exploration and prediction facets. "
   ]
  }
 ],
 "metadata": {
  "anaconda-cloud": {},
  "celltoolbar": "Raw Cell Format",
  "kernelspec": {
   "display_name": "Python 3 (ipykernel)",
   "language": "python",
   "name": "python3"
  },
  "language_info": {
   "codemirror_mode": {
    "name": "ipython",
    "version": 3
   },
   "file_extension": ".py",
   "mimetype": "text/x-python",
   "name": "python",
   "nbconvert_exporter": "python",
   "pygments_lexer": "ipython3",
   "version": "3.12.4"
  },
  "vscode": {
   "interpreter": {
    "hash": "cf21ed8e1a65c559da2cb273a11174743e2e2b37c54da2273cb868ae002ee465"
   }
  }
 },
 "nbformat": 4,
 "nbformat_minor": 4
}
